{
  "nbformat": 4,
  "nbformat_minor": 0,
  "metadata": {
    "kernelspec": {
      "display_name": "Python 3",
      "language": "python",
      "name": "python3"
    },
    "language_info": {
      "codemirror_mode": {
        "name": "ipython",
        "version": 3
      },
      "file_extension": ".py",
      "mimetype": "text/x-python",
      "name": "python",
      "nbconvert_exporter": "python",
      "pygments_lexer": "ipython3",
      "version": "3.7.5"
    },
    "colab": {
      "name": "HousePrice.ipynb",
      "provenance": [],
      "collapsed_sections": []
    }
  },
  "cells": [
    {
      "cell_type": "markdown",
      "metadata": {
        "id": "IS85plJOfH2O"
      },
      "source": [
        "## The Data\n",
        "\n",
        "We will be using data from a Kaggle data set:\n",
        "\n",
        "https://www.kaggle.com/harlfoxem/housesalesprediction\n",
        "\n",
        "#### Feature Columns\n",
        "    \n",
        "* id - Unique ID for each home sold\n",
        "* date - Date of the home sale\n",
        "* price - Price of each home sold\n",
        "* bedrooms - Number of bedrooms\n",
        "* bathrooms - Number of bathrooms, where .5 accounts for a room with a toilet but no shower\n",
        "* sqft_living - Square footage of the apartments interior living space\n",
        "* sqft_lot - Square footage of the land space\n",
        "* floors - Number of floors\n",
        "* waterfront - A dummy variable for whether the apartment was overlooking the waterfront or not\n",
        "* view - An index from 0 to 4 of how good the view of the property was\n",
        "* condition - An index from 1 to 5 on the condition of the apartment,\n",
        "* grade - An index from 1 to 13, where 1-3 falls short of building construction and design, 7 has an average level of construction and design, and 11-13 have a high quality level of construction and design.\n",
        "* sqft_above - The square footage of the interior housing space that is above ground level\n",
        "* sqft_basement - The square footage of the interior housing space that is below ground level\n",
        "* yr_built - The year the house was initially built\n",
        "* yr_renovated - The year of the house’s last renovation\n",
        "* zipcode - What zipcode area the house is in\n",
        "* lat - Lattitude\n",
        "* long - Longitude\n",
        "* sqft_living15 - The square footage of interior housing living space for the nearest 15 neighbors\n",
        "* sqft_lot15 - The square footage of the land lots of the nearest 15 neighbors"
      ]
    },
    {
      "cell_type": "code",
      "metadata": {
        "colab": {
          "base_uri": "https://localhost:8080/"
        },
        "id": "GcVz4wF9fH2S",
        "outputId": "4929a639-4668-478a-b3d3-fd6312689322"
      },
      "source": [
        "import pandas as pd\n",
        "import numpy as np\n",
        "import matplotlib.pyplot as plt\n",
        "import seaborn as sns\n",
        "from google.colab import drive\n",
        "drive.mount('/content/drive')"
      ],
      "execution_count": null,
      "outputs": [
        {
          "output_type": "stream",
          "name": "stdout",
          "text": [
            "Mounted at /content/drive\n"
          ]
        }
      ]
    },
    {
      "cell_type": "code",
      "metadata": {
        "id": "-i2FhvsofH2W"
      },
      "source": [
        "df = pd.read_csv('/content/archive.zip')"
      ],
      "execution_count": 8,
      "outputs": []
    },
    {
      "cell_type": "markdown",
      "metadata": {
        "id": "i0Nid8NzfH2X"
      },
      "source": [
        "# Exploratory Data Analysis"
      ]
    },
    {
      "cell_type": "code",
      "metadata": {
        "id": "Jcgu1CZLfH2Z",
        "colab": {
          "base_uri": "https://localhost:8080/"
        },
        "outputId": "f9607a29-24da-46a4-e566-5e7ba76318f3"
      },
      "source": [
        "df.isnull().sum()"
      ],
      "execution_count": 9,
      "outputs": [
        {
          "output_type": "execute_result",
          "data": {
            "text/plain": [
              "id               0\n",
              "date             0\n",
              "price            0\n",
              "bedrooms         0\n",
              "bathrooms        0\n",
              "sqft_living      0\n",
              "sqft_lot         0\n",
              "floors           0\n",
              "waterfront       0\n",
              "view             0\n",
              "condition        0\n",
              "grade            0\n",
              "sqft_above       0\n",
              "sqft_basement    0\n",
              "yr_built         0\n",
              "yr_renovated     0\n",
              "zipcode          0\n",
              "lat              0\n",
              "long             0\n",
              "sqft_living15    0\n",
              "sqft_lot15       0\n",
              "dtype: int64"
            ]
          },
          "metadata": {},
          "execution_count": 9
        }
      ]
    },
    {
      "cell_type": "code",
      "metadata": {
        "id": "hOTTzmBjfH2e",
        "colab": {
          "base_uri": "https://localhost:8080/",
          "height": 667
        },
        "outputId": "1299cd02-9756-473d-a1e6-6a310368838f"
      },
      "source": [
        "df.describe().transpose()"
      ],
      "execution_count": 11,
      "outputs": [
        {
          "output_type": "execute_result",
          "data": {
            "text/html": [
              "<div>\n",
              "<style scoped>\n",
              "    .dataframe tbody tr th:only-of-type {\n",
              "        vertical-align: middle;\n",
              "    }\n",
              "\n",
              "    .dataframe tbody tr th {\n",
              "        vertical-align: top;\n",
              "    }\n",
              "\n",
              "    .dataframe thead th {\n",
              "        text-align: right;\n",
              "    }\n",
              "</style>\n",
              "<table border=\"1\" class=\"dataframe\">\n",
              "  <thead>\n",
              "    <tr style=\"text-align: right;\">\n",
              "      <th></th>\n",
              "      <th>count</th>\n",
              "      <th>mean</th>\n",
              "      <th>std</th>\n",
              "      <th>min</th>\n",
              "      <th>25%</th>\n",
              "      <th>50%</th>\n",
              "      <th>75%</th>\n",
              "      <th>max</th>\n",
              "    </tr>\n",
              "  </thead>\n",
              "  <tbody>\n",
              "    <tr>\n",
              "      <th>id</th>\n",
              "      <td>21613.0</td>\n",
              "      <td>4.580302e+09</td>\n",
              "      <td>2.876566e+09</td>\n",
              "      <td>1.000102e+06</td>\n",
              "      <td>2.123049e+09</td>\n",
              "      <td>3.904930e+09</td>\n",
              "      <td>7.308900e+09</td>\n",
              "      <td>9.900000e+09</td>\n",
              "    </tr>\n",
              "    <tr>\n",
              "      <th>price</th>\n",
              "      <td>21613.0</td>\n",
              "      <td>5.400881e+05</td>\n",
              "      <td>3.671272e+05</td>\n",
              "      <td>7.500000e+04</td>\n",
              "      <td>3.219500e+05</td>\n",
              "      <td>4.500000e+05</td>\n",
              "      <td>6.450000e+05</td>\n",
              "      <td>7.700000e+06</td>\n",
              "    </tr>\n",
              "    <tr>\n",
              "      <th>bedrooms</th>\n",
              "      <td>21613.0</td>\n",
              "      <td>3.370842e+00</td>\n",
              "      <td>9.300618e-01</td>\n",
              "      <td>0.000000e+00</td>\n",
              "      <td>3.000000e+00</td>\n",
              "      <td>3.000000e+00</td>\n",
              "      <td>4.000000e+00</td>\n",
              "      <td>3.300000e+01</td>\n",
              "    </tr>\n",
              "    <tr>\n",
              "      <th>bathrooms</th>\n",
              "      <td>21613.0</td>\n",
              "      <td>2.114757e+00</td>\n",
              "      <td>7.701632e-01</td>\n",
              "      <td>0.000000e+00</td>\n",
              "      <td>1.750000e+00</td>\n",
              "      <td>2.250000e+00</td>\n",
              "      <td>2.500000e+00</td>\n",
              "      <td>8.000000e+00</td>\n",
              "    </tr>\n",
              "    <tr>\n",
              "      <th>sqft_living</th>\n",
              "      <td>21613.0</td>\n",
              "      <td>2.079900e+03</td>\n",
              "      <td>9.184409e+02</td>\n",
              "      <td>2.900000e+02</td>\n",
              "      <td>1.427000e+03</td>\n",
              "      <td>1.910000e+03</td>\n",
              "      <td>2.550000e+03</td>\n",
              "      <td>1.354000e+04</td>\n",
              "    </tr>\n",
              "    <tr>\n",
              "      <th>sqft_lot</th>\n",
              "      <td>21613.0</td>\n",
              "      <td>1.510697e+04</td>\n",
              "      <td>4.142051e+04</td>\n",
              "      <td>5.200000e+02</td>\n",
              "      <td>5.040000e+03</td>\n",
              "      <td>7.618000e+03</td>\n",
              "      <td>1.068800e+04</td>\n",
              "      <td>1.651359e+06</td>\n",
              "    </tr>\n",
              "    <tr>\n",
              "      <th>floors</th>\n",
              "      <td>21613.0</td>\n",
              "      <td>1.494309e+00</td>\n",
              "      <td>5.399889e-01</td>\n",
              "      <td>1.000000e+00</td>\n",
              "      <td>1.000000e+00</td>\n",
              "      <td>1.500000e+00</td>\n",
              "      <td>2.000000e+00</td>\n",
              "      <td>3.500000e+00</td>\n",
              "    </tr>\n",
              "    <tr>\n",
              "      <th>waterfront</th>\n",
              "      <td>21613.0</td>\n",
              "      <td>7.541757e-03</td>\n",
              "      <td>8.651720e-02</td>\n",
              "      <td>0.000000e+00</td>\n",
              "      <td>0.000000e+00</td>\n",
              "      <td>0.000000e+00</td>\n",
              "      <td>0.000000e+00</td>\n",
              "      <td>1.000000e+00</td>\n",
              "    </tr>\n",
              "    <tr>\n",
              "      <th>view</th>\n",
              "      <td>21613.0</td>\n",
              "      <td>2.343034e-01</td>\n",
              "      <td>7.663176e-01</td>\n",
              "      <td>0.000000e+00</td>\n",
              "      <td>0.000000e+00</td>\n",
              "      <td>0.000000e+00</td>\n",
              "      <td>0.000000e+00</td>\n",
              "      <td>4.000000e+00</td>\n",
              "    </tr>\n",
              "    <tr>\n",
              "      <th>condition</th>\n",
              "      <td>21613.0</td>\n",
              "      <td>3.409430e+00</td>\n",
              "      <td>6.507430e-01</td>\n",
              "      <td>1.000000e+00</td>\n",
              "      <td>3.000000e+00</td>\n",
              "      <td>3.000000e+00</td>\n",
              "      <td>4.000000e+00</td>\n",
              "      <td>5.000000e+00</td>\n",
              "    </tr>\n",
              "    <tr>\n",
              "      <th>grade</th>\n",
              "      <td>21613.0</td>\n",
              "      <td>7.656873e+00</td>\n",
              "      <td>1.175459e+00</td>\n",
              "      <td>1.000000e+00</td>\n",
              "      <td>7.000000e+00</td>\n",
              "      <td>7.000000e+00</td>\n",
              "      <td>8.000000e+00</td>\n",
              "      <td>1.300000e+01</td>\n",
              "    </tr>\n",
              "    <tr>\n",
              "      <th>sqft_above</th>\n",
              "      <td>21613.0</td>\n",
              "      <td>1.788391e+03</td>\n",
              "      <td>8.280910e+02</td>\n",
              "      <td>2.900000e+02</td>\n",
              "      <td>1.190000e+03</td>\n",
              "      <td>1.560000e+03</td>\n",
              "      <td>2.210000e+03</td>\n",
              "      <td>9.410000e+03</td>\n",
              "    </tr>\n",
              "    <tr>\n",
              "      <th>sqft_basement</th>\n",
              "      <td>21613.0</td>\n",
              "      <td>2.915090e+02</td>\n",
              "      <td>4.425750e+02</td>\n",
              "      <td>0.000000e+00</td>\n",
              "      <td>0.000000e+00</td>\n",
              "      <td>0.000000e+00</td>\n",
              "      <td>5.600000e+02</td>\n",
              "      <td>4.820000e+03</td>\n",
              "    </tr>\n",
              "    <tr>\n",
              "      <th>yr_built</th>\n",
              "      <td>21613.0</td>\n",
              "      <td>1.971005e+03</td>\n",
              "      <td>2.937341e+01</td>\n",
              "      <td>1.900000e+03</td>\n",
              "      <td>1.951000e+03</td>\n",
              "      <td>1.975000e+03</td>\n",
              "      <td>1.997000e+03</td>\n",
              "      <td>2.015000e+03</td>\n",
              "    </tr>\n",
              "    <tr>\n",
              "      <th>yr_renovated</th>\n",
              "      <td>21613.0</td>\n",
              "      <td>8.440226e+01</td>\n",
              "      <td>4.016792e+02</td>\n",
              "      <td>0.000000e+00</td>\n",
              "      <td>0.000000e+00</td>\n",
              "      <td>0.000000e+00</td>\n",
              "      <td>0.000000e+00</td>\n",
              "      <td>2.015000e+03</td>\n",
              "    </tr>\n",
              "    <tr>\n",
              "      <th>zipcode</th>\n",
              "      <td>21613.0</td>\n",
              "      <td>9.807794e+04</td>\n",
              "      <td>5.350503e+01</td>\n",
              "      <td>9.800100e+04</td>\n",
              "      <td>9.803300e+04</td>\n",
              "      <td>9.806500e+04</td>\n",
              "      <td>9.811800e+04</td>\n",
              "      <td>9.819900e+04</td>\n",
              "    </tr>\n",
              "    <tr>\n",
              "      <th>lat</th>\n",
              "      <td>21613.0</td>\n",
              "      <td>4.756005e+01</td>\n",
              "      <td>1.385637e-01</td>\n",
              "      <td>4.715590e+01</td>\n",
              "      <td>4.747100e+01</td>\n",
              "      <td>4.757180e+01</td>\n",
              "      <td>4.767800e+01</td>\n",
              "      <td>4.777760e+01</td>\n",
              "    </tr>\n",
              "    <tr>\n",
              "      <th>long</th>\n",
              "      <td>21613.0</td>\n",
              "      <td>-1.222139e+02</td>\n",
              "      <td>1.408283e-01</td>\n",
              "      <td>-1.225190e+02</td>\n",
              "      <td>-1.223280e+02</td>\n",
              "      <td>-1.222300e+02</td>\n",
              "      <td>-1.221250e+02</td>\n",
              "      <td>-1.213150e+02</td>\n",
              "    </tr>\n",
              "    <tr>\n",
              "      <th>sqft_living15</th>\n",
              "      <td>21613.0</td>\n",
              "      <td>1.986552e+03</td>\n",
              "      <td>6.853913e+02</td>\n",
              "      <td>3.990000e+02</td>\n",
              "      <td>1.490000e+03</td>\n",
              "      <td>1.840000e+03</td>\n",
              "      <td>2.360000e+03</td>\n",
              "      <td>6.210000e+03</td>\n",
              "    </tr>\n",
              "    <tr>\n",
              "      <th>sqft_lot15</th>\n",
              "      <td>21613.0</td>\n",
              "      <td>1.276846e+04</td>\n",
              "      <td>2.730418e+04</td>\n",
              "      <td>6.510000e+02</td>\n",
              "      <td>5.100000e+03</td>\n",
              "      <td>7.620000e+03</td>\n",
              "      <td>1.008300e+04</td>\n",
              "      <td>8.712000e+05</td>\n",
              "    </tr>\n",
              "  </tbody>\n",
              "</table>\n",
              "</div>"
            ],
            "text/plain": [
              "                 count          mean  ...           75%           max\n",
              "id             21613.0  4.580302e+09  ...  7.308900e+09  9.900000e+09\n",
              "price          21613.0  5.400881e+05  ...  6.450000e+05  7.700000e+06\n",
              "bedrooms       21613.0  3.370842e+00  ...  4.000000e+00  3.300000e+01\n",
              "bathrooms      21613.0  2.114757e+00  ...  2.500000e+00  8.000000e+00\n",
              "sqft_living    21613.0  2.079900e+03  ...  2.550000e+03  1.354000e+04\n",
              "sqft_lot       21613.0  1.510697e+04  ...  1.068800e+04  1.651359e+06\n",
              "floors         21613.0  1.494309e+00  ...  2.000000e+00  3.500000e+00\n",
              "waterfront     21613.0  7.541757e-03  ...  0.000000e+00  1.000000e+00\n",
              "view           21613.0  2.343034e-01  ...  0.000000e+00  4.000000e+00\n",
              "condition      21613.0  3.409430e+00  ...  4.000000e+00  5.000000e+00\n",
              "grade          21613.0  7.656873e+00  ...  8.000000e+00  1.300000e+01\n",
              "sqft_above     21613.0  1.788391e+03  ...  2.210000e+03  9.410000e+03\n",
              "sqft_basement  21613.0  2.915090e+02  ...  5.600000e+02  4.820000e+03\n",
              "yr_built       21613.0  1.971005e+03  ...  1.997000e+03  2.015000e+03\n",
              "yr_renovated   21613.0  8.440226e+01  ...  0.000000e+00  2.015000e+03\n",
              "zipcode        21613.0  9.807794e+04  ...  9.811800e+04  9.819900e+04\n",
              "lat            21613.0  4.756005e+01  ...  4.767800e+01  4.777760e+01\n",
              "long           21613.0 -1.222139e+02  ... -1.221250e+02 -1.213150e+02\n",
              "sqft_living15  21613.0  1.986552e+03  ...  2.360000e+03  6.210000e+03\n",
              "sqft_lot15     21613.0  1.276846e+04  ...  1.008300e+04  8.712000e+05\n",
              "\n",
              "[20 rows x 8 columns]"
            ]
          },
          "metadata": {},
          "execution_count": 11
        }
      ]
    },
    {
      "cell_type": "code",
      "metadata": {
        "id": "gEv4LmLCfH2h",
        "colab": {
          "base_uri": "https://localhost:8080/",
          "height": 582
        },
        "outputId": "38eff909-f399-4e80-b520-f67d35135651"
      },
      "source": [
        "plt.figure(figsize=(12,8))\n",
        "sns.distplot(df['price'])"
      ],
      "execution_count": 12,
      "outputs": [
        {
          "output_type": "stream",
          "name": "stderr",
          "text": [
            "/usr/local/lib/python3.7/dist-packages/seaborn/distributions.py:2557: FutureWarning: `distplot` is a deprecated function and will be removed in a future version. Please adapt your code to use either `displot` (a figure-level function with similar flexibility) or `histplot` (an axes-level function for histograms).\n",
            "  warnings.warn(msg, FutureWarning)\n"
          ]
        },
        {
          "output_type": "execute_result",
          "data": {
            "text/plain": [
              "<matplotlib.axes._subplots.AxesSubplot at 0x7f41d544df90>"
            ]
          },
          "metadata": {},
          "execution_count": 12
        },
        {
          "output_type": "display_data",
          "data": {
            "image/png": "[encoded data removed]",
            "text/plain": [
              "<Figure size 864x576 with 1 Axes>"
            ]
          },
          "metadata": {
            "needs_background": "light"
          }
        }
      ]
    },
    {
      "cell_type": "code",
      "metadata": {
        "id": "lMqRQ_PxfH2j",
        "colab": {
          "base_uri": "https://localhost:8080/",
          "height": 352
        },
        "outputId": "599d9d15-0b8f-4e86-939b-c38138eda818"
      },
      "source": [
        "sns.countplot(df['bedrooms'])"
      ],
      "execution_count": 13,
      "outputs": [
        {
          "output_type": "stream",
          "name": "stderr",
          "text": [
            "/usr/local/lib/python3.7/dist-packages/seaborn/_decorators.py:43: FutureWarning: Pass the following variable as a keyword arg: x. From version 0.12, the only valid positional argument will be `data`, and passing other arguments without an explicit keyword will result in an error or misinterpretation.\n",
            "  FutureWarning\n"
          ]
        },
        {
          "output_type": "execute_result",
          "data": {
            "text/plain": [
              "<matplotlib.axes._subplots.AxesSubplot at 0x7f41d5240190>"
            ]
          },
          "metadata": {},
          "execution_count": 13
        },
        {
          "output_type": "display_data",
          "data": {
            "image/png": "[encoded data removed]",
            "text/plain": [
              "<Figure size 432x288 with 1 Axes>"
            ]
          },
          "metadata": {
            "needs_background": "light"
          }
        }
      ]
    },
    {
      "cell_type": "code",
      "metadata": {
        "id": "idnbsjcJfH2t",
        "colab": {
          "base_uri": "https://localhost:8080/",
          "height": 687
        },
        "outputId": "44d1806b-7889-4a9d-b0ff-c1bade6692f1"
      },
      "source": [
        "df.sort_values('price',ascending=False).head(20)"
      ],
      "execution_count": 14,
      "outputs": [
        {
          "output_type": "execute_result",
          "data": {
            "text/html": [
              "<div>\n",
              "<style scoped>\n",
              "    .dataframe tbody tr th:only-of-type {\n",
              "        vertical-align: middle;\n",
              "    }\n",
              "\n",
              "    .dataframe tbody tr th {\n",
              "        vertical-align: top;\n",
              "    }\n",
              "\n",
              "    .dataframe thead th {\n",
              "        text-align: right;\n",
              "    }\n",
              "</style>\n",
              "<table border=\"1\" class=\"dataframe\">\n",
              "  <thead>\n",
              "    <tr style=\"text-align: right;\">\n",
              "      <th></th>\n",
              "      <th>id</th>\n",
              "      <th>date</th>\n",
              "      <th>price</th>\n",
              "      <th>bedrooms</th>\n",
              "      <th>bathrooms</th>\n",
              "      <th>sqft_living</th>\n",
              "      <th>sqft_lot</th>\n",
              "      <th>floors</th>\n",
              "      <th>waterfront</th>\n",
              "      <th>view</th>\n",
              "      <th>condition</th>\n",
              "      <th>grade</th>\n",
              "      <th>sqft_above</th>\n",
              "      <th>sqft_basement</th>\n",
              "      <th>yr_built</th>\n",
              "      <th>yr_renovated</th>\n",
              "      <th>zipcode</th>\n",
              "      <th>lat</th>\n",
              "      <th>long</th>\n",
              "      <th>sqft_living15</th>\n",
              "      <th>sqft_lot15</th>\n",
              "    </tr>\n",
              "  </thead>\n",
              "  <tbody>\n",
              "    <tr>\n",
              "      <th>7252</th>\n",
              "      <td>6762700020</td>\n",
              "      <td>20141013T000000</td>\n",
              "      <td>7700000.0</td>\n",
              "      <td>6</td>\n",
              "      <td>8.00</td>\n",
              "      <td>12050</td>\n",
              "      <td>27600</td>\n",
              "      <td>2.5</td>\n",
              "      <td>0</td>\n",
              "      <td>3</td>\n",
              "      <td>4</td>\n",
              "      <td>13</td>\n",
              "      <td>8570</td>\n",
              "      <td>3480</td>\n",
              "      <td>1910</td>\n",
              "      <td>1987</td>\n",
              "      <td>98102</td>\n",
              "      <td>47.6298</td>\n",
              "      <td>-122.323</td>\n",
              "      <td>3940</td>\n",
              "      <td>8800</td>\n",
              "    </tr>\n",
              "    <tr>\n",
              "      <th>3914</th>\n",
              "      <td>9808700762</td>\n",
              "      <td>20140611T000000</td>\n",
              "      <td>7062500.0</td>\n",
              "      <td>5</td>\n",
              "      <td>4.50</td>\n",
              "      <td>10040</td>\n",
              "      <td>37325</td>\n",
              "      <td>2.0</td>\n",
              "      <td>1</td>\n",
              "      <td>2</td>\n",
              "      <td>3</td>\n",
              "      <td>11</td>\n",
              "      <td>7680</td>\n",
              "      <td>2360</td>\n",
              "      <td>1940</td>\n",
              "      <td>2001</td>\n",
              "      <td>98004</td>\n",
              "      <td>47.6500</td>\n",
              "      <td>-122.214</td>\n",
              "      <td>3930</td>\n",
              "      <td>25449</td>\n",
              "    </tr>\n",
              "    <tr>\n",
              "      <th>9254</th>\n",
              "      <td>9208900037</td>\n",
              "      <td>20140919T000000</td>\n",
              "      <td>6885000.0</td>\n",
              "      <td>6</td>\n",
              "      <td>7.75</td>\n",
              "      <td>9890</td>\n",
              "      <td>31374</td>\n",
              "      <td>2.0</td>\n",
              "      <td>0</td>\n",
              "      <td>4</td>\n",
              "      <td>3</td>\n",
              "      <td>13</td>\n",
              "      <td>8860</td>\n",
              "      <td>1030</td>\n",
              "      <td>2001</td>\n",
              "      <td>0</td>\n",
              "      <td>98039</td>\n",
              "      <td>47.6305</td>\n",
              "      <td>-122.240</td>\n",
              "      <td>4540</td>\n",
              "      <td>42730</td>\n",
              "    </tr>\n",
              "    <tr>\n",
              "      <th>4411</th>\n",
              "      <td>2470100110</td>\n",
              "      <td>20140804T000000</td>\n",
              "      <td>5570000.0</td>\n",
              "      <td>5</td>\n",
              "      <td>5.75</td>\n",
              "      <td>9200</td>\n",
              "      <td>35069</td>\n",
              "      <td>2.0</td>\n",
              "      <td>0</td>\n",
              "      <td>0</td>\n",
              "      <td>3</td>\n",
              "      <td>13</td>\n",
              "      <td>6200</td>\n",
              "      <td>3000</td>\n",
              "      <td>2001</td>\n",
              "      <td>0</td>\n",
              "      <td>98039</td>\n",
              "      <td>47.6289</td>\n",
              "      <td>-122.233</td>\n",
              "      <td>3560</td>\n",
              "      <td>24345</td>\n",
              "    </tr>\n",
              "    <tr>\n",
              "      <th>1448</th>\n",
              "      <td>8907500070</td>\n",
              "      <td>20150413T000000</td>\n",
              "      <td>5350000.0</td>\n",
              "      <td>5</td>\n",
              "      <td>5.00</td>\n",
              "      <td>8000</td>\n",
              "      <td>23985</td>\n",
              "      <td>2.0</td>\n",
              "      <td>0</td>\n",
              "      <td>4</td>\n",
              "      <td>3</td>\n",
              "      <td>12</td>\n",
              "      <td>6720</td>\n",
              "      <td>1280</td>\n",
              "      <td>2009</td>\n",
              "      <td>0</td>\n",
              "      <td>98004</td>\n",
              "      <td>47.6232</td>\n",
              "      <td>-122.220</td>\n",
              "      <td>4600</td>\n",
              "      <td>21750</td>\n",
              "    </tr>\n",
              "    <tr>\n",
              "      <th>1315</th>\n",
              "      <td>7558700030</td>\n",
              "      <td>20150413T000000</td>\n",
              "      <td>5300000.0</td>\n",
              "      <td>6</td>\n",
              "      <td>6.00</td>\n",
              "      <td>7390</td>\n",
              "      <td>24829</td>\n",
              "      <td>2.0</td>\n",
              "      <td>1</td>\n",
              "      <td>4</td>\n",
              "      <td>4</td>\n",
              "      <td>12</td>\n",
              "      <td>5000</td>\n",
              "      <td>2390</td>\n",
              "      <td>1991</td>\n",
              "      <td>0</td>\n",
              "      <td>98040</td>\n",
              "      <td>47.5631</td>\n",
              "      <td>-122.210</td>\n",
              "      <td>4320</td>\n",
              "      <td>24619</td>\n",
              "    </tr>\n",
              "    <tr>\n",
              "      <th>1164</th>\n",
              "      <td>1247600105</td>\n",
              "      <td>20141020T000000</td>\n",
              "      <td>5110800.0</td>\n",
              "      <td>5</td>\n",
              "      <td>5.25</td>\n",
              "      <td>8010</td>\n",
              "      <td>45517</td>\n",
              "      <td>2.0</td>\n",
              "      <td>1</td>\n",
              "      <td>4</td>\n",
              "      <td>3</td>\n",
              "      <td>12</td>\n",
              "      <td>5990</td>\n",
              "      <td>2020</td>\n",
              "      <td>1999</td>\n",
              "      <td>0</td>\n",
              "      <td>98033</td>\n",
              "      <td>47.6767</td>\n",
              "      <td>-122.211</td>\n",
              "      <td>3430</td>\n",
              "      <td>26788</td>\n",
              "    </tr>\n",
              "    <tr>\n",
              "      <th>8092</th>\n",
              "      <td>1924059029</td>\n",
              "      <td>20140617T000000</td>\n",
              "      <td>4668000.0</td>\n",
              "      <td>5</td>\n",
              "      <td>6.75</td>\n",
              "      <td>9640</td>\n",
              "      <td>13068</td>\n",
              "      <td>1.0</td>\n",
              "      <td>1</td>\n",
              "      <td>4</td>\n",
              "      <td>3</td>\n",
              "      <td>12</td>\n",
              "      <td>4820</td>\n",
              "      <td>4820</td>\n",
              "      <td>1983</td>\n",
              "      <td>2009</td>\n",
              "      <td>98040</td>\n",
              "      <td>47.5570</td>\n",
              "      <td>-122.210</td>\n",
              "      <td>3270</td>\n",
              "      <td>10454</td>\n",
              "    </tr>\n",
              "    <tr>\n",
              "      <th>2626</th>\n",
              "      <td>7738500731</td>\n",
              "      <td>20140815T000000</td>\n",
              "      <td>4500000.0</td>\n",
              "      <td>5</td>\n",
              "      <td>5.50</td>\n",
              "      <td>6640</td>\n",
              "      <td>40014</td>\n",
              "      <td>2.0</td>\n",
              "      <td>1</td>\n",
              "      <td>4</td>\n",
              "      <td>3</td>\n",
              "      <td>12</td>\n",
              "      <td>6350</td>\n",
              "      <td>290</td>\n",
              "      <td>2004</td>\n",
              "      <td>0</td>\n",
              "      <td>98155</td>\n",
              "      <td>47.7493</td>\n",
              "      <td>-122.280</td>\n",
              "      <td>3030</td>\n",
              "      <td>23408</td>\n",
              "    </tr>\n",
              "    <tr>\n",
              "      <th>8638</th>\n",
              "      <td>3835500195</td>\n",
              "      <td>20140618T000000</td>\n",
              "      <td>4489000.0</td>\n",
              "      <td>4</td>\n",
              "      <td>3.00</td>\n",
              "      <td>6430</td>\n",
              "      <td>27517</td>\n",
              "      <td>2.0</td>\n",
              "      <td>0</td>\n",
              "      <td>0</td>\n",
              "      <td>3</td>\n",
              "      <td>12</td>\n",
              "      <td>6430</td>\n",
              "      <td>0</td>\n",
              "      <td>2001</td>\n",
              "      <td>0</td>\n",
              "      <td>98004</td>\n",
              "      <td>47.6208</td>\n",
              "      <td>-122.219</td>\n",
              "      <td>3720</td>\n",
              "      <td>14592</td>\n",
              "    </tr>\n",
              "    <tr>\n",
              "      <th>12370</th>\n",
              "      <td>6065300370</td>\n",
              "      <td>20150506T000000</td>\n",
              "      <td>4208000.0</td>\n",
              "      <td>5</td>\n",
              "      <td>6.00</td>\n",
              "      <td>7440</td>\n",
              "      <td>21540</td>\n",
              "      <td>2.0</td>\n",
              "      <td>0</td>\n",
              "      <td>0</td>\n",
              "      <td>3</td>\n",
              "      <td>12</td>\n",
              "      <td>5550</td>\n",
              "      <td>1890</td>\n",
              "      <td>2003</td>\n",
              "      <td>0</td>\n",
              "      <td>98006</td>\n",
              "      <td>47.5692</td>\n",
              "      <td>-122.189</td>\n",
              "      <td>4740</td>\n",
              "      <td>19329</td>\n",
              "    </tr>\n",
              "    <tr>\n",
              "      <th>4149</th>\n",
              "      <td>6447300265</td>\n",
              "      <td>20141014T000000</td>\n",
              "      <td>4000000.0</td>\n",
              "      <td>4</td>\n",
              "      <td>5.50</td>\n",
              "      <td>7080</td>\n",
              "      <td>16573</td>\n",
              "      <td>2.0</td>\n",
              "      <td>0</td>\n",
              "      <td>0</td>\n",
              "      <td>3</td>\n",
              "      <td>12</td>\n",
              "      <td>5760</td>\n",
              "      <td>1320</td>\n",
              "      <td>2008</td>\n",
              "      <td>0</td>\n",
              "      <td>98039</td>\n",
              "      <td>47.6151</td>\n",
              "      <td>-122.224</td>\n",
              "      <td>3140</td>\n",
              "      <td>15996</td>\n",
              "    </tr>\n",
              "    <tr>\n",
              "      <th>2085</th>\n",
              "      <td>8106100105</td>\n",
              "      <td>20141114T000000</td>\n",
              "      <td>3850000.0</td>\n",
              "      <td>4</td>\n",
              "      <td>4.25</td>\n",
              "      <td>5770</td>\n",
              "      <td>21300</td>\n",
              "      <td>2.0</td>\n",
              "      <td>1</td>\n",
              "      <td>4</td>\n",
              "      <td>4</td>\n",
              "      <td>11</td>\n",
              "      <td>5770</td>\n",
              "      <td>0</td>\n",
              "      <td>1980</td>\n",
              "      <td>0</td>\n",
              "      <td>98040</td>\n",
              "      <td>47.5850</td>\n",
              "      <td>-122.222</td>\n",
              "      <td>4620</td>\n",
              "      <td>22748</td>\n",
              "    </tr>\n",
              "    <tr>\n",
              "      <th>19017</th>\n",
              "      <td>2303900100</td>\n",
              "      <td>20140911T000000</td>\n",
              "      <td>3800000.0</td>\n",
              "      <td>3</td>\n",
              "      <td>4.25</td>\n",
              "      <td>5510</td>\n",
              "      <td>35000</td>\n",
              "      <td>2.0</td>\n",
              "      <td>0</td>\n",
              "      <td>4</td>\n",
              "      <td>3</td>\n",
              "      <td>13</td>\n",
              "      <td>4910</td>\n",
              "      <td>600</td>\n",
              "      <td>1997</td>\n",
              "      <td>0</td>\n",
              "      <td>98177</td>\n",
              "      <td>47.7296</td>\n",
              "      <td>-122.370</td>\n",
              "      <td>3430</td>\n",
              "      <td>45302</td>\n",
              "    </tr>\n",
              "    <tr>\n",
              "      <th>7035</th>\n",
              "      <td>853200010</td>\n",
              "      <td>20140701T000000</td>\n",
              "      <td>3800000.0</td>\n",
              "      <td>5</td>\n",
              "      <td>5.50</td>\n",
              "      <td>7050</td>\n",
              "      <td>42840</td>\n",
              "      <td>1.0</td>\n",
              "      <td>0</td>\n",
              "      <td>2</td>\n",
              "      <td>4</td>\n",
              "      <td>13</td>\n",
              "      <td>4320</td>\n",
              "      <td>2730</td>\n",
              "      <td>1978</td>\n",
              "      <td>0</td>\n",
              "      <td>98004</td>\n",
              "      <td>47.6229</td>\n",
              "      <td>-122.220</td>\n",
              "      <td>5070</td>\n",
              "      <td>20570</td>\n",
              "    </tr>\n",
              "    <tr>\n",
              "      <th>16302</th>\n",
              "      <td>7397300170</td>\n",
              "      <td>20140530T000000</td>\n",
              "      <td>3710000.0</td>\n",
              "      <td>4</td>\n",
              "      <td>3.50</td>\n",
              "      <td>5550</td>\n",
              "      <td>28078</td>\n",
              "      <td>2.0</td>\n",
              "      <td>0</td>\n",
              "      <td>2</td>\n",
              "      <td>4</td>\n",
              "      <td>12</td>\n",
              "      <td>3350</td>\n",
              "      <td>2200</td>\n",
              "      <td>2000</td>\n",
              "      <td>0</td>\n",
              "      <td>98039</td>\n",
              "      <td>47.6395</td>\n",
              "      <td>-122.234</td>\n",
              "      <td>2980</td>\n",
              "      <td>19602</td>\n",
              "    </tr>\n",
              "    <tr>\n",
              "      <th>6508</th>\n",
              "      <td>4217402115</td>\n",
              "      <td>20150421T000000</td>\n",
              "      <td>3650000.0</td>\n",
              "      <td>6</td>\n",
              "      <td>4.75</td>\n",
              "      <td>5480</td>\n",
              "      <td>19401</td>\n",
              "      <td>1.5</td>\n",
              "      <td>1</td>\n",
              "      <td>4</td>\n",
              "      <td>5</td>\n",
              "      <td>11</td>\n",
              "      <td>3910</td>\n",
              "      <td>1570</td>\n",
              "      <td>1936</td>\n",
              "      <td>0</td>\n",
              "      <td>98105</td>\n",
              "      <td>47.6515</td>\n",
              "      <td>-122.277</td>\n",
              "      <td>3510</td>\n",
              "      <td>15810</td>\n",
              "    </tr>\n",
              "    <tr>\n",
              "      <th>18482</th>\n",
              "      <td>4389201095</td>\n",
              "      <td>20150511T000000</td>\n",
              "      <td>3650000.0</td>\n",
              "      <td>5</td>\n",
              "      <td>3.75</td>\n",
              "      <td>5020</td>\n",
              "      <td>8694</td>\n",
              "      <td>2.0</td>\n",
              "      <td>0</td>\n",
              "      <td>1</td>\n",
              "      <td>3</td>\n",
              "      <td>12</td>\n",
              "      <td>3970</td>\n",
              "      <td>1050</td>\n",
              "      <td>2007</td>\n",
              "      <td>0</td>\n",
              "      <td>98004</td>\n",
              "      <td>47.6146</td>\n",
              "      <td>-122.213</td>\n",
              "      <td>4190</td>\n",
              "      <td>11275</td>\n",
              "    </tr>\n",
              "    <tr>\n",
              "      <th>15255</th>\n",
              "      <td>2425049063</td>\n",
              "      <td>20140911T000000</td>\n",
              "      <td>3640900.0</td>\n",
              "      <td>4</td>\n",
              "      <td>3.25</td>\n",
              "      <td>4830</td>\n",
              "      <td>22257</td>\n",
              "      <td>2.0</td>\n",
              "      <td>1</td>\n",
              "      <td>4</td>\n",
              "      <td>4</td>\n",
              "      <td>11</td>\n",
              "      <td>4830</td>\n",
              "      <td>0</td>\n",
              "      <td>1990</td>\n",
              "      <td>0</td>\n",
              "      <td>98039</td>\n",
              "      <td>47.6409</td>\n",
              "      <td>-122.241</td>\n",
              "      <td>3820</td>\n",
              "      <td>25582</td>\n",
              "    </tr>\n",
              "    <tr>\n",
              "      <th>19148</th>\n",
              "      <td>3625049042</td>\n",
              "      <td>20141011T000000</td>\n",
              "      <td>3635000.0</td>\n",
              "      <td>5</td>\n",
              "      <td>6.00</td>\n",
              "      <td>5490</td>\n",
              "      <td>19897</td>\n",
              "      <td>2.0</td>\n",
              "      <td>0</td>\n",
              "      <td>0</td>\n",
              "      <td>3</td>\n",
              "      <td>12</td>\n",
              "      <td>5490</td>\n",
              "      <td>0</td>\n",
              "      <td>2005</td>\n",
              "      <td>0</td>\n",
              "      <td>98039</td>\n",
              "      <td>47.6165</td>\n",
              "      <td>-122.236</td>\n",
              "      <td>2910</td>\n",
              "      <td>17600</td>\n",
              "    </tr>\n",
              "  </tbody>\n",
              "</table>\n",
              "</div>"
            ],
            "text/plain": [
              "               id             date  ...  sqft_living15  sqft_lot15\n",
              "7252   6762700020  20141013T000000  ...           3940        8800\n",
              "3914   9808700762  20140611T000000  ...           3930       25449\n",
              "9254   9208900037  20140919T000000  ...           4540       42730\n",
              "4411   2470100110  20140804T000000  ...           3560       24345\n",
              "1448   8907500070  20150413T000000  ...           4600       21750\n",
              "1315   7558700030  20150413T000000  ...           4320       24619\n",
              "1164   1247600105  20141020T000000  ...           3430       26788\n",
              "8092   1924059029  20140617T000000  ...           3270       10454\n",
              "2626   7738500731  20140815T000000  ...           3030       23408\n",
              "8638   3835500195  20140618T000000  ...           3720       14592\n",
              "12370  6065300370  20150506T000000  ...           4740       19329\n",
              "4149   6447300265  20141014T000000  ...           3140       15996\n",
              "2085   8106100105  20141114T000000  ...           4620       22748\n",
              "19017  2303900100  20140911T000000  ...           3430       45302\n",
              "7035    853200010  20140701T000000  ...           5070       20570\n",
              "16302  7397300170  20140530T000000  ...           2980       19602\n",
              "6508   4217402115  20150421T000000  ...           3510       15810\n",
              "18482  4389201095  20150511T000000  ...           4190       11275\n",
              "15255  2425049063  20140911T000000  ...           3820       25582\n",
              "19148  3625049042  20141011T000000  ...           2910       17600\n",
              "\n",
              "[20 rows x 21 columns]"
            ]
          },
          "metadata": {},
          "execution_count": 14
        }
      ]
    },
    {
      "cell_type": "markdown",
      "metadata": {
        "id": "Yjv4NKDGfH20"
      },
      "source": [
        "## Working with Feature Data"
      ]
    },
    {
      "cell_type": "code",
      "metadata": {
        "id": "JL4z0xuGfH22",
        "colab": {
          "base_uri": "https://localhost:8080/",
          "height": 224
        },
        "outputId": "66d6e2a9-75d7-42d9-c102-47803fc34e5b"
      },
      "source": [
        "df.head()"
      ],
      "execution_count": 17,
      "outputs": [
        {
          "output_type": "execute_result",
          "data": {
            "text/html": [
              "<div>\n",
              "<style scoped>\n",
              "    .dataframe tbody tr th:only-of-type {\n",
              "        vertical-align: middle;\n",
              "    }\n",
              "\n",
              "    .dataframe tbody tr th {\n",
              "        vertical-align: top;\n",
              "    }\n",
              "\n",
              "    .dataframe thead th {\n",
              "        text-align: right;\n",
              "    }\n",
              "</style>\n",
              "<table border=\"1\" class=\"dataframe\">\n",
              "  <thead>\n",
              "    <tr style=\"text-align: right;\">\n",
              "      <th></th>\n",
              "      <th>id</th>\n",
              "      <th>date</th>\n",
              "      <th>price</th>\n",
              "      <th>bedrooms</th>\n",
              "      <th>bathrooms</th>\n",
              "      <th>sqft_living</th>\n",
              "      <th>sqft_lot</th>\n",
              "      <th>floors</th>\n",
              "      <th>waterfront</th>\n",
              "      <th>view</th>\n",
              "      <th>condition</th>\n",
              "      <th>grade</th>\n",
              "      <th>sqft_above</th>\n",
              "      <th>sqft_basement</th>\n",
              "      <th>yr_built</th>\n",
              "      <th>yr_renovated</th>\n",
              "      <th>zipcode</th>\n",
              "      <th>lat</th>\n",
              "      <th>long</th>\n",
              "      <th>sqft_living15</th>\n",
              "      <th>sqft_lot15</th>\n",
              "    </tr>\n",
              "  </thead>\n",
              "  <tbody>\n",
              "    <tr>\n",
              "      <th>0</th>\n",
              "      <td>7129300520</td>\n",
              "      <td>20141013T000000</td>\n",
              "      <td>221900.0</td>\n",
              "      <td>3</td>\n",
              "      <td>1.00</td>\n",
              "      <td>1180</td>\n",
              "      <td>5650</td>\n",
              "      <td>1.0</td>\n",
              "      <td>0</td>\n",
              "      <td>0</td>\n",
              "      <td>3</td>\n",
              "      <td>7</td>\n",
              "      <td>1180</td>\n",
              "      <td>0</td>\n",
              "      <td>1955</td>\n",
              "      <td>0</td>\n",
              "      <td>98178</td>\n",
              "      <td>47.5112</td>\n",
              "      <td>-122.257</td>\n",
              "      <td>1340</td>\n",
              "      <td>5650</td>\n",
              "    </tr>\n",
              "    <tr>\n",
              "      <th>1</th>\n",
              "      <td>6414100192</td>\n",
              "      <td>20141209T000000</td>\n",
              "      <td>538000.0</td>\n",
              "      <td>3</td>\n",
              "      <td>2.25</td>\n",
              "      <td>2570</td>\n",
              "      <td>7242</td>\n",
              "      <td>2.0</td>\n",
              "      <td>0</td>\n",
              "      <td>0</td>\n",
              "      <td>3</td>\n",
              "      <td>7</td>\n",
              "      <td>2170</td>\n",
              "      <td>400</td>\n",
              "      <td>1951</td>\n",
              "      <td>1991</td>\n",
              "      <td>98125</td>\n",
              "      <td>47.7210</td>\n",
              "      <td>-122.319</td>\n",
              "      <td>1690</td>\n",
              "      <td>7639</td>\n",
              "    </tr>\n",
              "    <tr>\n",
              "      <th>2</th>\n",
              "      <td>5631500400</td>\n",
              "      <td>20150225T000000</td>\n",
              "      <td>180000.0</td>\n",
              "      <td>2</td>\n",
              "      <td>1.00</td>\n",
              "      <td>770</td>\n",
              "      <td>10000</td>\n",
              "      <td>1.0</td>\n",
              "      <td>0</td>\n",
              "      <td>0</td>\n",
              "      <td>3</td>\n",
              "      <td>6</td>\n",
              "      <td>770</td>\n",
              "      <td>0</td>\n",
              "      <td>1933</td>\n",
              "      <td>0</td>\n",
              "      <td>98028</td>\n",
              "      <td>47.7379</td>\n",
              "      <td>-122.233</td>\n",
              "      <td>2720</td>\n",
              "      <td>8062</td>\n",
              "    </tr>\n",
              "    <tr>\n",
              "      <th>3</th>\n",
              "      <td>2487200875</td>\n",
              "      <td>20141209T000000</td>\n",
              "      <td>604000.0</td>\n",
              "      <td>4</td>\n",
              "      <td>3.00</td>\n",
              "      <td>1960</td>\n",
              "      <td>5000</td>\n",
              "      <td>1.0</td>\n",
              "      <td>0</td>\n",
              "      <td>0</td>\n",
              "      <td>5</td>\n",
              "      <td>7</td>\n",
              "      <td>1050</td>\n",
              "      <td>910</td>\n",
              "      <td>1965</td>\n",
              "      <td>0</td>\n",
              "      <td>98136</td>\n",
              "      <td>47.5208</td>\n",
              "      <td>-122.393</td>\n",
              "      <td>1360</td>\n",
              "      <td>5000</td>\n",
              "    </tr>\n",
              "    <tr>\n",
              "      <th>4</th>\n",
              "      <td>1954400510</td>\n",
              "      <td>20150218T000000</td>\n",
              "      <td>510000.0</td>\n",
              "      <td>3</td>\n",
              "      <td>2.00</td>\n",
              "      <td>1680</td>\n",
              "      <td>8080</td>\n",
              "      <td>1.0</td>\n",
              "      <td>0</td>\n",
              "      <td>0</td>\n",
              "      <td>3</td>\n",
              "      <td>8</td>\n",
              "      <td>1680</td>\n",
              "      <td>0</td>\n",
              "      <td>1987</td>\n",
              "      <td>0</td>\n",
              "      <td>98074</td>\n",
              "      <td>47.6168</td>\n",
              "      <td>-122.045</td>\n",
              "      <td>1800</td>\n",
              "      <td>7503</td>\n",
              "    </tr>\n",
              "  </tbody>\n",
              "</table>\n",
              "</div>"
            ],
            "text/plain": [
              "           id             date     price  ...     long  sqft_living15  sqft_lot15\n",
              "0  7129300520  20141013T000000  221900.0  ... -122.257           1340        5650\n",
              "1  6414100192  20141209T000000  538000.0  ... -122.319           1690        7639\n",
              "2  5631500400  20150225T000000  180000.0  ... -122.233           2720        8062\n",
              "3  2487200875  20141209T000000  604000.0  ... -122.393           1360        5000\n",
              "4  1954400510  20150218T000000  510000.0  ... -122.045           1800        7503\n",
              "\n",
              "[5 rows x 21 columns]"
            ]
          },
          "metadata": {},
          "execution_count": 17
        }
      ]
    },
    {
      "cell_type": "code",
      "metadata": {
        "id": "Lu6Z8ZK_fH24",
        "colab": {
          "base_uri": "https://localhost:8080/"
        },
        "outputId": "1da6b869-3736-4314-f13a-fdcda1387a51"
      },
      "source": [
        "df.info()"
      ],
      "execution_count": 18,
      "outputs": [
        {
          "output_type": "stream",
          "name": "stdout",
          "text": [
            "<class 'pandas.core.frame.DataFrame'>\n",
            "RangeIndex: 21613 entries, 0 to 21612\n",
            "Data columns (total 21 columns):\n",
            " #   Column         Non-Null Count  Dtype  \n",
            "---  ------         --------------  -----  \n",
            " 0   id             21613 non-null  int64  \n",
            " 1   date           21613 non-null  object \n",
            " 2   price          21613 non-null  float64\n",
            " 3   bedrooms       21613 non-null  int64  \n",
            " 4   bathrooms      21613 non-null  float64\n",
            " 5   sqft_living    21613 non-null  int64  \n",
            " 6   sqft_lot       21613 non-null  int64  \n",
            " 7   floors         21613 non-null  float64\n",
            " 8   waterfront     21613 non-null  int64  \n",
            " 9   view           21613 non-null  int64  \n",
            " 10  condition      21613 non-null  int64  \n",
            " 11  grade          21613 non-null  int64  \n",
            " 12  sqft_above     21613 non-null  int64  \n",
            " 13  sqft_basement  21613 non-null  int64  \n",
            " 14  yr_built       21613 non-null  int64  \n",
            " 15  yr_renovated   21613 non-null  int64  \n",
            " 16  zipcode        21613 non-null  int64  \n",
            " 17  lat            21613 non-null  float64\n",
            " 18  long           21613 non-null  float64\n",
            " 19  sqft_living15  21613 non-null  int64  \n",
            " 20  sqft_lot15     21613 non-null  int64  \n",
            "dtypes: float64(5), int64(15), object(1)\n",
            "memory usage: 3.5+ MB\n"
          ]
        }
      ]
    },
    {
      "cell_type": "code",
      "metadata": {
        "id": "OG4kNaQBfH25"
      },
      "source": [
        "df = df.drop('id',axis=1)"
      ],
      "execution_count": 19,
      "outputs": []
    },
    {
      "cell_type": "code",
      "metadata": {
        "id": "yOSAvEYCfH26",
        "colab": {
          "base_uri": "https://localhost:8080/",
          "height": 224
        },
        "outputId": "e2a79239-4cd6-401b-98d5-31b1a99d7ddd"
      },
      "source": [
        "df.head()"
      ],
      "execution_count": 20,
      "outputs": [
        {
          "output_type": "execute_result",
          "data": {
            "text/html": [
              "<div>\n",
              "<style scoped>\n",
              "    .dataframe tbody tr th:only-of-type {\n",
              "        vertical-align: middle;\n",
              "    }\n",
              "\n",
              "    .dataframe tbody tr th {\n",
              "        vertical-align: top;\n",
              "    }\n",
              "\n",
              "    .dataframe thead th {\n",
              "        text-align: right;\n",
              "    }\n",
              "</style>\n",
              "<table border=\"1\" class=\"dataframe\">\n",
              "  <thead>\n",
              "    <tr style=\"text-align: right;\">\n",
              "      <th></th>\n",
              "      <th>date</th>\n",
              "      <th>price</th>\n",
              "      <th>bedrooms</th>\n",
              "      <th>bathrooms</th>\n",
              "      <th>sqft_living</th>\n",
              "      <th>sqft_lot</th>\n",
              "      <th>floors</th>\n",
              "      <th>waterfront</th>\n",
              "      <th>view</th>\n",
              "      <th>condition</th>\n",
              "      <th>grade</th>\n",
              "      <th>sqft_above</th>\n",
              "      <th>sqft_basement</th>\n",
              "      <th>yr_built</th>\n",
              "      <th>yr_renovated</th>\n",
              "      <th>zipcode</th>\n",
              "      <th>lat</th>\n",
              "      <th>long</th>\n",
              "      <th>sqft_living15</th>\n",
              "      <th>sqft_lot15</th>\n",
              "    </tr>\n",
              "  </thead>\n",
              "  <tbody>\n",
              "    <tr>\n",
              "      <th>0</th>\n",
              "      <td>20141013T000000</td>\n",
              "      <td>221900.0</td>\n",
              "      <td>3</td>\n",
              "      <td>1.00</td>\n",
              "      <td>1180</td>\n",
              "      <td>5650</td>\n",
              "      <td>1.0</td>\n",
              "      <td>0</td>\n",
              "      <td>0</td>\n",
              "      <td>3</td>\n",
              "      <td>7</td>\n",
              "      <td>1180</td>\n",
              "      <td>0</td>\n",
              "      <td>1955</td>\n",
              "      <td>0</td>\n",
              "      <td>98178</td>\n",
              "      <td>47.5112</td>\n",
              "      <td>-122.257</td>\n",
              "      <td>1340</td>\n",
              "      <td>5650</td>\n",
              "    </tr>\n",
              "    <tr>\n",
              "      <th>1</th>\n",
              "      <td>20141209T000000</td>\n",
              "      <td>538000.0</td>\n",
              "      <td>3</td>\n",
              "      <td>2.25</td>\n",
              "      <td>2570</td>\n",
              "      <td>7242</td>\n",
              "      <td>2.0</td>\n",
              "      <td>0</td>\n",
              "      <td>0</td>\n",
              "      <td>3</td>\n",
              "      <td>7</td>\n",
              "      <td>2170</td>\n",
              "      <td>400</td>\n",
              "      <td>1951</td>\n",
              "      <td>1991</td>\n",
              "      <td>98125</td>\n",
              "      <td>47.7210</td>\n",
              "      <td>-122.319</td>\n",
              "      <td>1690</td>\n",
              "      <td>7639</td>\n",
              "    </tr>\n",
              "    <tr>\n",
              "      <th>2</th>\n",
              "      <td>20150225T000000</td>\n",
              "      <td>180000.0</td>\n",
              "      <td>2</td>\n",
              "      <td>1.00</td>\n",
              "      <td>770</td>\n",
              "      <td>10000</td>\n",
              "      <td>1.0</td>\n",
              "      <td>0</td>\n",
              "      <td>0</td>\n",
              "      <td>3</td>\n",
              "      <td>6</td>\n",
              "      <td>770</td>\n",
              "      <td>0</td>\n",
              "      <td>1933</td>\n",
              "      <td>0</td>\n",
              "      <td>98028</td>\n",
              "      <td>47.7379</td>\n",
              "      <td>-122.233</td>\n",
              "      <td>2720</td>\n",
              "      <td>8062</td>\n",
              "    </tr>\n",
              "    <tr>\n",
              "      <th>3</th>\n",
              "      <td>20141209T000000</td>\n",
              "      <td>604000.0</td>\n",
              "      <td>4</td>\n",
              "      <td>3.00</td>\n",
              "      <td>1960</td>\n",
              "      <td>5000</td>\n",
              "      <td>1.0</td>\n",
              "      <td>0</td>\n",
              "      <td>0</td>\n",
              "      <td>5</td>\n",
              "      <td>7</td>\n",
              "      <td>1050</td>\n",
              "      <td>910</td>\n",
              "      <td>1965</td>\n",
              "      <td>0</td>\n",
              "      <td>98136</td>\n",
              "      <td>47.5208</td>\n",
              "      <td>-122.393</td>\n",
              "      <td>1360</td>\n",
              "      <td>5000</td>\n",
              "    </tr>\n",
              "    <tr>\n",
              "      <th>4</th>\n",
              "      <td>20150218T000000</td>\n",
              "      <td>510000.0</td>\n",
              "      <td>3</td>\n",
              "      <td>2.00</td>\n",
              "      <td>1680</td>\n",
              "      <td>8080</td>\n",
              "      <td>1.0</td>\n",
              "      <td>0</td>\n",
              "      <td>0</td>\n",
              "      <td>3</td>\n",
              "      <td>8</td>\n",
              "      <td>1680</td>\n",
              "      <td>0</td>\n",
              "      <td>1987</td>\n",
              "      <td>0</td>\n",
              "      <td>98074</td>\n",
              "      <td>47.6168</td>\n",
              "      <td>-122.045</td>\n",
              "      <td>1800</td>\n",
              "      <td>7503</td>\n",
              "    </tr>\n",
              "  </tbody>\n",
              "</table>\n",
              "</div>"
            ],
            "text/plain": [
              "              date     price  bedrooms  ...     long  sqft_living15  sqft_lot15\n",
              "0  20141013T000000  221900.0         3  ... -122.257           1340        5650\n",
              "1  20141209T000000  538000.0         3  ... -122.319           1690        7639\n",
              "2  20150225T000000  180000.0         2  ... -122.233           2720        8062\n",
              "3  20141209T000000  604000.0         4  ... -122.393           1360        5000\n",
              "4  20150218T000000  510000.0         3  ... -122.045           1800        7503\n",
              "\n",
              "[5 rows x 20 columns]"
            ]
          },
          "metadata": {},
          "execution_count": 20
        }
      ]
    },
    {
      "cell_type": "markdown",
      "metadata": {
        "id": "sYp2IbKGfH27"
      },
      "source": [
        "### Feature Engineering from Date"
      ]
    },
    {
      "cell_type": "code",
      "metadata": {
        "id": "ViQuxckhfH27"
      },
      "source": [
        "df['date'] = pd.to_datetime(df['date'])"
      ],
      "execution_count": 21,
      "outputs": []
    },
    {
      "cell_type": "code",
      "metadata": {
        "id": "-29wr0TefH28"
      },
      "source": [
        "df['month'] = df['date'].apply(lambda date:date.month)"
      ],
      "execution_count": 22,
      "outputs": []
    },
    {
      "cell_type": "code",
      "metadata": {
        "id": "TCA51-9bfH29"
      },
      "source": [
        "df['year'] = df['date'].apply(lambda date:date.year)"
      ],
      "execution_count": 23,
      "outputs": []
    },
    {
      "cell_type": "code",
      "metadata": {
        "id": "GlOt-YM3fH29",
        "colab": {
          "base_uri": "https://localhost:8080/",
          "height": 308
        },
        "outputId": "1e157fc5-2eef-4871-b58c-c8469428432c"
      },
      "source": [
        "sns.boxplot(x='year',y='price',data=df)"
      ],
      "execution_count": 24,
      "outputs": [
        {
          "output_type": "execute_result",
          "data": {
            "text/plain": [
              "<matplotlib.axes._subplots.AxesSubplot at 0x7f41cba964d0>"
            ]
          },
          "metadata": {},
          "execution_count": 24
        },
        {
          "output_type": "display_data",
          "data": {
            "image/png": "[encoded data removed]",
            "text/plain": [
              "<Figure size 432x288 with 1 Axes>"
            ]
          },
          "metadata": {
            "needs_background": "light"
          }
        }
      ]
    },
    {
      "cell_type": "code",
      "metadata": {
        "id": "0_XycsjOfH2-",
        "colab": {
          "base_uri": "https://localhost:8080/",
          "height": 308
        },
        "outputId": "9e70d3fc-ac07-4996-a9f3-513780309d74"
      },
      "source": [
        "sns.boxplot(x='month',y='price',data=df)"
      ],
      "execution_count": 25,
      "outputs": [
        {
          "output_type": "execute_result",
          "data": {
            "text/plain": [
              "<matplotlib.axes._subplots.AxesSubplot at 0x7f41cb9cca90>"
            ]
          },
          "metadata": {},
          "execution_count": 25
        },
        {
          "output_type": "display_data",
          "data": {
            "image/png": "[encoded data removed]",
            "text/plain": [
              "<Figure size 432x288 with 1 Axes>"
            ]
          },
          "metadata": {
            "needs_background": "light"
          }
        }
      ]
    },
    {
      "cell_type": "code",
      "metadata": {
        "id": "atVOUInOfH2-",
        "colab": {
          "base_uri": "https://localhost:8080/",
          "height": 297
        },
        "outputId": "5479a663-4ebf-45f5-b388-808169510360"
      },
      "source": [
        "df.groupby('month').mean()['price'].plot()"
      ],
      "execution_count": 26,
      "outputs": [
        {
          "output_type": "execute_result",
          "data": {
            "text/plain": [
              "<matplotlib.axes._subplots.AxesSubplot at 0x7f41cb810850>"
            ]
          },
          "metadata": {},
          "execution_count": 26
        },
        {
          "output_type": "display_data",
          "data": {
            "image/png": "[encoded data removed]",
            "text/plain": [
              "<Figure size 432x288 with 1 Axes>"
            ]
          },
          "metadata": {
            "needs_background": "light"
          }
        }
      ]
    },
    {
      "cell_type": "code",
      "metadata": {
        "id": "wVh3uUE6fH2-",
        "colab": {
          "base_uri": "https://localhost:8080/",
          "height": 297
        },
        "outputId": "870f10df-9097-4cb4-d64c-9df12a9a48d1"
      },
      "source": [
        "df.groupby('year').mean()['price'].plot()"
      ],
      "execution_count": 27,
      "outputs": [
        {
          "output_type": "execute_result",
          "data": {
            "text/plain": [
              "<matplotlib.axes._subplots.AxesSubplot at 0x7f41cb783590>"
            ]
          },
          "metadata": {},
          "execution_count": 27
        },
        {
          "output_type": "display_data",
          "data": {
            "image/png": "[encoded data removed]",
            "text/plain": [
              "<Figure size 432x288 with 1 Axes>"
            ]
          },
          "metadata": {
            "needs_background": "light"
          }
        }
      ]
    },
    {
      "cell_type": "code",
      "metadata": {
        "id": "znzg7M7cfH2-"
      },
      "source": [
        "df = df.drop('date',axis=1)"
      ],
      "execution_count": 28,
      "outputs": []
    },
    {
      "cell_type": "code",
      "metadata": {
        "id": "CW4O6nfTfH2_",
        "colab": {
          "base_uri": "https://localhost:8080/"
        },
        "outputId": "8eb0c8da-7594-45b7-88d9-77723addbb44"
      },
      "source": [
        "df.columns"
      ],
      "execution_count": 29,
      "outputs": [
        {
          "output_type": "execute_result",
          "data": {
            "text/plain": [
              "Index(['price', 'bedrooms', 'bathrooms', 'sqft_living', 'sqft_lot', 'floors',\n",
              "       'waterfront', 'view', 'condition', 'grade', 'sqft_above',\n",
              "       'sqft_basement', 'yr_built', 'yr_renovated', 'zipcode', 'lat', 'long',\n",
              "       'sqft_living15', 'sqft_lot15', 'month', 'year'],\n",
              "      dtype='object')"
            ]
          },
          "metadata": {},
          "execution_count": 29
        }
      ]
    },
    {
      "cell_type": "code",
      "metadata": {
        "id": "4Nz9_AVefH2_",
        "colab": {
          "base_uri": "https://localhost:8080/"
        },
        "outputId": "a50e642b-b041-4593-caa0-918c69c940ea"
      },
      "source": [
        "df['zipcode'].value_counts()"
      ],
      "execution_count": 30,
      "outputs": [
        {
          "output_type": "execute_result",
          "data": {
            "text/plain": [
              "98103    602\n",
              "98038    590\n",
              "98115    583\n",
              "98052    574\n",
              "98117    553\n",
              "        ... \n",
              "98102    105\n",
              "98010    100\n",
              "98024     81\n",
              "98148     57\n",
              "98039     50\n",
              "Name: zipcode, Length: 70, dtype: int64"
            ]
          },
          "metadata": {},
          "execution_count": 30
        }
      ]
    },
    {
      "cell_type": "code",
      "metadata": {
        "id": "k_T8xN1ufH2_"
      },
      "source": [
        "df = df.drop('zipcode',axis=1)"
      ],
      "execution_count": 31,
      "outputs": []
    },
    {
      "cell_type": "code",
      "metadata": {
        "id": "6frQIxfLfH2_",
        "colab": {
          "base_uri": "https://localhost:8080/",
          "height": 224
        },
        "outputId": "7ef697a6-45d9-43ba-a4bf-80d308d97e45"
      },
      "source": [
        "df.head()"
      ],
      "execution_count": 32,
      "outputs": [
        {
          "output_type": "execute_result",
          "data": {
            "text/html": [
              "<div>\n",
              "<style scoped>\n",
              "    .dataframe tbody tr th:only-of-type {\n",
              "        vertical-align: middle;\n",
              "    }\n",
              "\n",
              "    .dataframe tbody tr th {\n",
              "        vertical-align: top;\n",
              "    }\n",
              "\n",
              "    .dataframe thead th {\n",
              "        text-align: right;\n",
              "    }\n",
              "</style>\n",
              "<table border=\"1\" class=\"dataframe\">\n",
              "  <thead>\n",
              "    <tr style=\"text-align: right;\">\n",
              "      <th></th>\n",
              "      <th>price</th>\n",
              "      <th>bedrooms</th>\n",
              "      <th>bathrooms</th>\n",
              "      <th>sqft_living</th>\n",
              "      <th>sqft_lot</th>\n",
              "      <th>floors</th>\n",
              "      <th>waterfront</th>\n",
              "      <th>view</th>\n",
              "      <th>condition</th>\n",
              "      <th>grade</th>\n",
              "      <th>sqft_above</th>\n",
              "      <th>sqft_basement</th>\n",
              "      <th>yr_built</th>\n",
              "      <th>yr_renovated</th>\n",
              "      <th>lat</th>\n",
              "      <th>long</th>\n",
              "      <th>sqft_living15</th>\n",
              "      <th>sqft_lot15</th>\n",
              "      <th>month</th>\n",
              "      <th>year</th>\n",
              "    </tr>\n",
              "  </thead>\n",
              "  <tbody>\n",
              "    <tr>\n",
              "      <th>0</th>\n",
              "      <td>221900.0</td>\n",
              "      <td>3</td>\n",
              "      <td>1.00</td>\n",
              "      <td>1180</td>\n",
              "      <td>5650</td>\n",
              "      <td>1.0</td>\n",
              "      <td>0</td>\n",
              "      <td>0</td>\n",
              "      <td>3</td>\n",
              "      <td>7</td>\n",
              "      <td>1180</td>\n",
              "      <td>0</td>\n",
              "      <td>1955</td>\n",
              "      <td>0</td>\n",
              "      <td>47.5112</td>\n",
              "      <td>-122.257</td>\n",
              "      <td>1340</td>\n",
              "      <td>5650</td>\n",
              "      <td>10</td>\n",
              "      <td>2014</td>\n",
              "    </tr>\n",
              "    <tr>\n",
              "      <th>1</th>\n",
              "      <td>538000.0</td>\n",
              "      <td>3</td>\n",
              "      <td>2.25</td>\n",
              "      <td>2570</td>\n",
              "      <td>7242</td>\n",
              "      <td>2.0</td>\n",
              "      <td>0</td>\n",
              "      <td>0</td>\n",
              "      <td>3</td>\n",
              "      <td>7</td>\n",
              "      <td>2170</td>\n",
              "      <td>400</td>\n",
              "      <td>1951</td>\n",
              "      <td>1991</td>\n",
              "      <td>47.7210</td>\n",
              "      <td>-122.319</td>\n",
              "      <td>1690</td>\n",
              "      <td>7639</td>\n",
              "      <td>12</td>\n",
              "      <td>2014</td>\n",
              "    </tr>\n",
              "    <tr>\n",
              "      <th>2</th>\n",
              "      <td>180000.0</td>\n",
              "      <td>2</td>\n",
              "      <td>1.00</td>\n",
              "      <td>770</td>\n",
              "      <td>10000</td>\n",
              "      <td>1.0</td>\n",
              "      <td>0</td>\n",
              "      <td>0</td>\n",
              "      <td>3</td>\n",
              "      <td>6</td>\n",
              "      <td>770</td>\n",
              "      <td>0</td>\n",
              "      <td>1933</td>\n",
              "      <td>0</td>\n",
              "      <td>47.7379</td>\n",
              "      <td>-122.233</td>\n",
              "      <td>2720</td>\n",
              "      <td>8062</td>\n",
              "      <td>2</td>\n",
              "      <td>2015</td>\n",
              "    </tr>\n",
              "    <tr>\n",
              "      <th>3</th>\n",
              "      <td>604000.0</td>\n",
              "      <td>4</td>\n",
              "      <td>3.00</td>\n",
              "      <td>1960</td>\n",
              "      <td>5000</td>\n",
              "      <td>1.0</td>\n",
              "      <td>0</td>\n",
              "      <td>0</td>\n",
              "      <td>5</td>\n",
              "      <td>7</td>\n",
              "      <td>1050</td>\n",
              "      <td>910</td>\n",
              "      <td>1965</td>\n",
              "      <td>0</td>\n",
              "      <td>47.5208</td>\n",
              "      <td>-122.393</td>\n",
              "      <td>1360</td>\n",
              "      <td>5000</td>\n",
              "      <td>12</td>\n",
              "      <td>2014</td>\n",
              "    </tr>\n",
              "    <tr>\n",
              "      <th>4</th>\n",
              "      <td>510000.0</td>\n",
              "      <td>3</td>\n",
              "      <td>2.00</td>\n",
              "      <td>1680</td>\n",
              "      <td>8080</td>\n",
              "      <td>1.0</td>\n",
              "      <td>0</td>\n",
              "      <td>0</td>\n",
              "      <td>3</td>\n",
              "      <td>8</td>\n",
              "      <td>1680</td>\n",
              "      <td>0</td>\n",
              "      <td>1987</td>\n",
              "      <td>0</td>\n",
              "      <td>47.6168</td>\n",
              "      <td>-122.045</td>\n",
              "      <td>1800</td>\n",
              "      <td>7503</td>\n",
              "      <td>2</td>\n",
              "      <td>2015</td>\n",
              "    </tr>\n",
              "  </tbody>\n",
              "</table>\n",
              "</div>"
            ],
            "text/plain": [
              "      price  bedrooms  bathrooms  ...  sqft_lot15  month  year\n",
              "0  221900.0         3       1.00  ...        5650     10  2014\n",
              "1  538000.0         3       2.25  ...        7639     12  2014\n",
              "2  180000.0         2       1.00  ...        8062      2  2015\n",
              "3  604000.0         4       3.00  ...        5000     12  2014\n",
              "4  510000.0         3       2.00  ...        7503      2  2015\n",
              "\n",
              "[5 rows x 20 columns]"
            ]
          },
          "metadata": {},
          "execution_count": 32
        }
      ]
    },
    {
      "cell_type": "code",
      "metadata": {
        "id": "G3QrDsELfH2_",
        "colab": {
          "base_uri": "https://localhost:8080/"
        },
        "outputId": "49c0023c-2c39-42f4-eb94-be3ea1ef6b1c"
      },
      "source": [
        "df['yr_renovated'].value_counts()"
      ],
      "execution_count": 33,
      "outputs": [
        {
          "output_type": "execute_result",
          "data": {
            "text/plain": [
              "0       20699\n",
              "2014       91\n",
              "2013       37\n",
              "2003       36\n",
              "2000       35\n",
              "        ...  \n",
              "1934        1\n",
              "1959        1\n",
              "1951        1\n",
              "1948        1\n",
              "1944        1\n",
              "Name: yr_renovated, Length: 70, dtype: int64"
            ]
          },
          "metadata": {},
          "execution_count": 33
        }
      ]
    },
    {
      "cell_type": "markdown",
      "metadata": {
        "id": "QTJcS0omfH3A"
      },
      "source": [
        "## Train Test Split"
      ]
    },
    {
      "cell_type": "code",
      "metadata": {
        "id": "LGT-a0I5fH3A"
      },
      "source": [
        "X = df.drop('price',axis=1)\n",
        "y = df['price']"
      ],
      "execution_count": 35,
      "outputs": []
    },
    {
      "cell_type": "code",
      "metadata": {
        "id": "eyx57cFNfH3A"
      },
      "source": [
        "from sklearn.model_selection import train_test_split"
      ],
      "execution_count": 36,
      "outputs": []
    },
    {
      "cell_type": "code",
      "metadata": {
        "id": "GBi44iUlfH3A"
      },
      "source": [
        "X_train, X_test, y_train, y_test = train_test_split(X,y,test_size=0.3,random_state=101)"
      ],
      "execution_count": 37,
      "outputs": []
    },
    {
      "cell_type": "markdown",
      "metadata": {
        "id": "QYljE8rdfH3B"
      },
      "source": [
        "### Scaling"
      ]
    },
    {
      "cell_type": "code",
      "metadata": {
        "id": "24XIFhptfH3B"
      },
      "source": [
        "from sklearn.preprocessing import MinMaxScaler"
      ],
      "execution_count": 38,
      "outputs": []
    },
    {
      "cell_type": "code",
      "metadata": {
        "id": "A5dyQflYfH3B"
      },
      "source": [
        "scaler = MinMaxScaler()"
      ],
      "execution_count": 39,
      "outputs": []
    },
    {
      "cell_type": "code",
      "metadata": {
        "id": "muZz6TFQfH3B"
      },
      "source": [
        "X_train= scaler.fit_transform(X_train)"
      ],
      "execution_count": 40,
      "outputs": []
    },
    {
      "cell_type": "code",
      "metadata": {
        "id": "8lI89IwjfH3B"
      },
      "source": [
        "X_test = scaler.transform(X_test)"
      ],
      "execution_count": 41,
      "outputs": []
    },
    {
      "cell_type": "code",
      "metadata": {
        "id": "gYM9AHJlfH3C",
        "colab": {
          "base_uri": "https://localhost:8080/"
        },
        "outputId": "3ca75a1d-7159-4561-f63f-5c54ad70590e"
      },
      "source": [
        "X_train.shape"
      ],
      "execution_count": 42,
      "outputs": [
        {
          "output_type": "execute_result",
          "data": {
            "text/plain": [
              "(15129, 19)"
            ]
          },
          "metadata": {},
          "execution_count": 42
        }
      ]
    },
    {
      "cell_type": "code",
      "metadata": {
        "id": "dVjMgP1EfH3C",
        "colab": {
          "base_uri": "https://localhost:8080/"
        },
        "outputId": "c4e5c0be-a57a-4162-e726-385c8233ef88"
      },
      "source": [
        "X_test.shape"
      ],
      "execution_count": 43,
      "outputs": [
        {
          "output_type": "execute_result",
          "data": {
            "text/plain": [
              "(6484, 19)"
            ]
          },
          "metadata": {},
          "execution_count": 43
        }
      ]
    },
    {
      "cell_type": "markdown",
      "metadata": {
        "id": "dCXMiYUUfH3C"
      },
      "source": [
        "## Creating a Model"
      ]
    },
    {
      "cell_type": "code",
      "metadata": {
        "id": "0akpDNAEfH3C"
      },
      "source": [
        "from tensorflow.keras.models import Sequential\n",
        "from tensorflow.keras.layers import Dense, Activation\n",
        "from tensorflow.keras.optimizers import Adam"
      ],
      "execution_count": 44,
      "outputs": []
    },
    {
      "cell_type": "code",
      "metadata": {
        "id": "m83V7j4ZfH3C"
      },
      "source": [
        "model = Sequential()\n",
        "\n",
        "model.add(Dense(19,activation='relu'))\n",
        "model.add(Dense(19,activation='relu'))\n",
        "model.add(Dense(19,activation='relu'))\n",
        "model.add(Dense(19,activation='relu'))\n",
        "model.add(Dense(1))\n",
        "\n",
        "model.compile(optimizer='adam',loss='mse')"
      ],
      "execution_count": 45,
      "outputs": []
    },
    {
      "cell_type": "markdown",
      "metadata": {
        "id": "saqQC0QBfH3D"
      },
      "source": [
        "## Training the Model"
      ]
    },
    {
      "cell_type": "code",
      "metadata": {
        "id": "TAwQ2SLHfH3D",
        "colab": {
          "base_uri": "https://localhost:8080/"
        },
        "outputId": "46d55054-2b7f-45dc-bf72-d0d8b8e67593"
      },
      "source": [
        "model.fit(x=X_train,y=y_train.values,\n",
        "          validation_data=(X_test,y_test.values),\n",
        "          batch_size=128,epochs=400)"
      ],
      "execution_count": 46,
      "outputs": [
        {
          "output_type": "stream",
          "name": "stdout",
          "text": [
            "Epoch 1/400\n",
            "119/119 [==============================] - 1s 4ms/step - loss: 423624278016.0000 - val_loss: 432998940672.0000\n",
            "Epoch 2/400\n",
            "119/119 [==============================] - 0s 2ms/step - loss: 422267912192.0000 - val_loss: 428133023744.0000\n",
            "Epoch 3/400\n",
            "119/119 [==============================] - 0s 3ms/step - loss: 403002720256.0000 - val_loss: 383657312256.0000\n",
            "Epoch 4/400\n",
            "119/119 [==============================] - 0s 3ms/step - loss: 313335218176.0000 - val_loss: 242331680768.0000\n",
            "Epoch 5/400\n",
            "119/119 [==============================] - 0s 2ms/step - loss: 160518356992.0000 - val_loss: 115250634752.0000\n",
            "Epoch 6/400\n",
            "119/119 [==============================] - 0s 2ms/step - loss: 101019426816.0000 - val_loss: 103613300736.0000\n",
            "Epoch 7/400\n",
            "119/119 [==============================] - 0s 3ms/step - loss: 97627168768.0000 - val_loss: 101981200384.0000\n",
            "Epoch 8/400\n",
            "119/119 [==============================] - 0s 2ms/step - loss: 96178855936.0000 - val_loss: 100349476864.0000\n",
            "Epoch 9/400\n",
            "119/119 [==============================] - 0s 2ms/step - loss: 94672871424.0000 - val_loss: 98720595968.0000\n",
            "Epoch 10/400\n",
            "119/119 [==============================] - 0s 3ms/step - loss: 93094690816.0000 - val_loss: 96991649792.0000\n",
            "Epoch 11/400\n",
            "119/119 [==============================] - 0s 2ms/step - loss: 91494039552.0000 - val_loss: 95242944512.0000\n",
            "Epoch 12/400\n",
            "119/119 [==============================] - 0s 3ms/step - loss: 89873522688.0000 - val_loss: 93426024448.0000\n",
            "Epoch 13/400\n",
            "119/119 [==============================] - 0s 3ms/step - loss: 88172191744.0000 - val_loss: 91530887168.0000\n",
            "Epoch 14/400\n",
            "119/119 [==============================] - 0s 2ms/step - loss: 86382837760.0000 - val_loss: 89582788608.0000\n",
            "Epoch 15/400\n",
            "119/119 [==============================] - 0s 3ms/step - loss: 84497997824.0000 - val_loss: 87482843136.0000\n",
            "Epoch 16/400\n",
            "119/119 [==============================] - 0s 2ms/step - loss: 82531606528.0000 - val_loss: 85281447936.0000\n",
            "Epoch 17/400\n",
            "119/119 [==============================] - 0s 2ms/step - loss: 80449232896.0000 - val_loss: 82965504000.0000\n",
            "Epoch 18/400\n",
            "119/119 [==============================] - 0s 3ms/step - loss: 78297833472.0000 - val_loss: 80715841536.0000\n",
            "Epoch 19/400\n",
            "119/119 [==============================] - 0s 2ms/step - loss: 76051841024.0000 - val_loss: 78066237440.0000\n",
            "Epoch 20/400\n",
            "119/119 [==============================] - 0s 3ms/step - loss: 73731973120.0000 - val_loss: 75502116864.0000\n",
            "Epoch 21/400\n",
            "119/119 [==============================] - 0s 3ms/step - loss: 71405993984.0000 - val_loss: 72967176192.0000\n",
            "Epoch 22/400\n",
            "119/119 [==============================] - 0s 2ms/step - loss: 68959510528.0000 - val_loss: 70174629888.0000\n",
            "Epoch 23/400\n",
            "119/119 [==============================] - 0s 3ms/step - loss: 66529087488.0000 - val_loss: 67566452736.0000\n",
            "Epoch 24/400\n",
            "119/119 [==============================] - 0s 3ms/step - loss: 64186499072.0000 - val_loss: 65085927424.0000\n",
            "Epoch 25/400\n",
            "119/119 [==============================] - 0s 2ms/step - loss: 61939765248.0000 - val_loss: 62549815296.0000\n",
            "Epoch 26/400\n",
            "119/119 [==============================] - 0s 2ms/step - loss: 59876233216.0000 - val_loss: 60391600128.0000\n",
            "Epoch 27/400\n",
            "119/119 [==============================] - 0s 2ms/step - loss: 58050179072.0000 - val_loss: 58453811200.0000\n",
            "Epoch 28/400\n",
            "119/119 [==============================] - 0s 2ms/step - loss: 56520306688.0000 - val_loss: 56802902016.0000\n",
            "Epoch 29/400\n",
            "119/119 [==============================] - 0s 2ms/step - loss: 55210332160.0000 - val_loss: 55564296192.0000\n",
            "Epoch 30/400\n",
            "119/119 [==============================] - 0s 3ms/step - loss: 54093774848.0000 - val_loss: 54290808832.0000\n",
            "Epoch 31/400\n",
            "119/119 [==============================] - 0s 2ms/step - loss: 53192339456.0000 - val_loss: 53409083392.0000\n",
            "Epoch 32/400\n",
            "119/119 [==============================] - 0s 2ms/step - loss: 52381626368.0000 - val_loss: 52540518400.0000\n",
            "Epoch 33/400\n",
            "119/119 [==============================] - 0s 3ms/step - loss: 51699105792.0000 - val_loss: 51803963392.0000\n",
            "Epoch 34/400\n",
            "119/119 [==============================] - 0s 2ms/step - loss: 51044438016.0000 - val_loss: 51157164032.0000\n",
            "Epoch 35/400\n",
            "119/119 [==============================] - 0s 2ms/step - loss: 50457464832.0000 - val_loss: 50719698944.0000\n",
            "Epoch 36/400\n",
            "119/119 [==============================] - 0s 3ms/step - loss: 49938677760.0000 - val_loss: 50167037952.0000\n",
            "Epoch 37/400\n",
            "119/119 [==============================] - 0s 2ms/step - loss: 49431142400.0000 - val_loss: 49597444096.0000\n",
            "Epoch 38/400\n",
            "119/119 [==============================] - 0s 2ms/step - loss: 48986357760.0000 - val_loss: 49090416640.0000\n",
            "Epoch 39/400\n",
            "119/119 [==============================] - 0s 3ms/step - loss: 48534003712.0000 - val_loss: 48657895424.0000\n",
            "Epoch 40/400\n",
            "119/119 [==============================] - 0s 3ms/step - loss: 48105705472.0000 - val_loss: 48217497600.0000\n",
            "Epoch 41/400\n",
            "119/119 [==============================] - 0s 3ms/step - loss: 47679578112.0000 - val_loss: 47792451584.0000\n",
            "Epoch 42/400\n",
            "119/119 [==============================] - 0s 2ms/step - loss: 47285821440.0000 - val_loss: 47371911168.0000\n",
            "Epoch 43/400\n",
            "119/119 [==============================] - 0s 3ms/step - loss: 46839455744.0000 - val_loss: 46949924864.0000\n",
            "Epoch 44/400\n",
            "119/119 [==============================] - 0s 2ms/step - loss: 46441984000.0000 - val_loss: 46487130112.0000\n",
            "Epoch 45/400\n",
            "119/119 [==============================] - 0s 2ms/step - loss: 45989625856.0000 - val_loss: 46160461824.0000\n",
            "Epoch 46/400\n",
            "119/119 [==============================] - 0s 2ms/step - loss: 45628252160.0000 - val_loss: 45658492928.0000\n",
            "Epoch 47/400\n",
            "119/119 [==============================] - 0s 3ms/step - loss: 45227843584.0000 - val_loss: 45381619712.0000\n",
            "Epoch 48/400\n",
            "119/119 [==============================] - 0s 3ms/step - loss: 44870156288.0000 - val_loss: 44957863936.0000\n",
            "Epoch 49/400\n",
            "119/119 [==============================] - 0s 2ms/step - loss: 44514082816.0000 - val_loss: 44513492992.0000\n",
            "Epoch 50/400\n",
            "119/119 [==============================] - 0s 3ms/step - loss: 44204900352.0000 - val_loss: 44090597376.0000\n",
            "Epoch 51/400\n",
            "119/119 [==============================] - 0s 2ms/step - loss: 43830321152.0000 - val_loss: 43813380096.0000\n",
            "Epoch 52/400\n",
            "119/119 [==============================] - 0s 2ms/step - loss: 43479314432.0000 - val_loss: 43481063424.0000\n",
            "Epoch 53/400\n",
            "119/119 [==============================] - 0s 2ms/step - loss: 43186896896.0000 - val_loss: 43159666688.0000\n",
            "Epoch 54/400\n",
            "119/119 [==============================] - 0s 3ms/step - loss: 42916151296.0000 - val_loss: 42876272640.0000\n",
            "Epoch 55/400\n",
            "119/119 [==============================] - 0s 2ms/step - loss: 42647404544.0000 - val_loss: 42626973696.0000\n",
            "Epoch 56/400\n",
            "119/119 [==============================] - 0s 3ms/step - loss: 42383704064.0000 - val_loss: 42336268288.0000\n",
            "Epoch 57/400\n",
            "119/119 [==============================] - 0s 3ms/step - loss: 42136068096.0000 - val_loss: 42052784128.0000\n",
            "Epoch 58/400\n",
            "119/119 [==============================] - 0s 3ms/step - loss: 41912991744.0000 - val_loss: 41802711040.0000\n",
            "Epoch 59/400\n",
            "119/119 [==============================] - 0s 3ms/step - loss: 41592201216.0000 - val_loss: 41669693440.0000\n",
            "Epoch 60/400\n",
            "119/119 [==============================] - 0s 2ms/step - loss: 41370406912.0000 - val_loss: 41303908352.0000\n",
            "Epoch 61/400\n",
            "119/119 [==============================] - 0s 2ms/step - loss: 41079345152.0000 - val_loss: 40948948992.0000\n",
            "Epoch 62/400\n",
            "119/119 [==============================] - 0s 2ms/step - loss: 40776990720.0000 - val_loss: 40669794304.0000\n",
            "Epoch 63/400\n",
            "119/119 [==============================] - 0s 3ms/step - loss: 40522203136.0000 - val_loss: 40309104640.0000\n",
            "Epoch 64/400\n",
            "119/119 [==============================] - 0s 2ms/step - loss: 40194568192.0000 - val_loss: 39971700736.0000\n",
            "Epoch 65/400\n",
            "119/119 [==============================] - 0s 2ms/step - loss: 39932346368.0000 - val_loss: 39733788672.0000\n",
            "Epoch 66/400\n",
            "119/119 [==============================] - 0s 2ms/step - loss: 39679389696.0000 - val_loss: 39443775488.0000\n",
            "Epoch 67/400\n",
            "119/119 [==============================] - 0s 2ms/step - loss: 39484755968.0000 - val_loss: 39192465408.0000\n",
            "Epoch 68/400\n",
            "119/119 [==============================] - 0s 3ms/step - loss: 39230808064.0000 - val_loss: 38985854976.0000\n",
            "Epoch 69/400\n",
            "119/119 [==============================] - 0s 2ms/step - loss: 39036727296.0000 - val_loss: 38790242304.0000\n",
            "Epoch 70/400\n",
            "119/119 [==============================] - 0s 3ms/step - loss: 38852030464.0000 - val_loss: 38503096320.0000\n",
            "Epoch 71/400\n",
            "119/119 [==============================] - 0s 2ms/step - loss: 38617395200.0000 - val_loss: 38314913792.0000\n",
            "Epoch 72/400\n",
            "119/119 [==============================] - 0s 3ms/step - loss: 38417068032.0000 - val_loss: 38099193856.0000\n",
            "Epoch 73/400\n",
            "119/119 [==============================] - 0s 2ms/step - loss: 38245584896.0000 - val_loss: 37941866496.0000\n",
            "Epoch 74/400\n",
            "119/119 [==============================] - 0s 2ms/step - loss: 38068715520.0000 - val_loss: 37716430848.0000\n",
            "Epoch 75/400\n",
            "119/119 [==============================] - 0s 3ms/step - loss: 37928951808.0000 - val_loss: 37504905216.0000\n",
            "Epoch 76/400\n",
            "119/119 [==============================] - 0s 3ms/step - loss: 37751177216.0000 - val_loss: 37397598208.0000\n",
            "Epoch 77/400\n",
            "119/119 [==============================] - 0s 3ms/step - loss: 37594763264.0000 - val_loss: 37201567744.0000\n",
            "Epoch 78/400\n",
            "119/119 [==============================] - 0s 3ms/step - loss: 37406900224.0000 - val_loss: 37085130752.0000\n",
            "Epoch 79/400\n",
            "119/119 [==============================] - 0s 3ms/step - loss: 37300592640.0000 - val_loss: 36909289472.0000\n",
            "Epoch 80/400\n",
            "119/119 [==============================] - 0s 2ms/step - loss: 37191053312.0000 - val_loss: 36697305088.0000\n",
            "Epoch 81/400\n",
            "119/119 [==============================] - 0s 2ms/step - loss: 37029441536.0000 - val_loss: 36626862080.0000\n",
            "Epoch 82/400\n",
            "119/119 [==============================] - 0s 3ms/step - loss: 36860608512.0000 - val_loss: 36411383808.0000\n",
            "Epoch 83/400\n",
            "119/119 [==============================] - 0s 3ms/step - loss: 36790468608.0000 - val_loss: 36277198848.0000\n",
            "Epoch 84/400\n",
            "119/119 [==============================] - 0s 2ms/step - loss: 36603297792.0000 - val_loss: 36121460736.0000\n",
            "Epoch 85/400\n",
            "119/119 [==============================] - 0s 2ms/step - loss: 36462690304.0000 - val_loss: 36035272704.0000\n",
            "Epoch 86/400\n",
            "119/119 [==============================] - 0s 2ms/step - loss: 36334419968.0000 - val_loss: 35879165952.0000\n",
            "Epoch 87/400\n",
            "119/119 [==============================] - 0s 3ms/step - loss: 36233506816.0000 - val_loss: 35788587008.0000\n",
            "Epoch 88/400\n",
            "119/119 [==============================] - 0s 2ms/step - loss: 36120117248.0000 - val_loss: 35728568320.0000\n",
            "Epoch 89/400\n",
            "119/119 [==============================] - 0s 3ms/step - loss: 36054335488.0000 - val_loss: 35503968256.0000\n",
            "Epoch 90/400\n",
            "119/119 [==============================] - 0s 3ms/step - loss: 35908636672.0000 - val_loss: 35453087744.0000\n",
            "Epoch 91/400\n",
            "119/119 [==============================] - 0s 3ms/step - loss: 35808362496.0000 - val_loss: 35313152000.0000\n",
            "Epoch 92/400\n",
            "119/119 [==============================] - 0s 2ms/step - loss: 35804610560.0000 - val_loss: 35189899264.0000\n",
            "Epoch 93/400\n",
            "119/119 [==============================] - 0s 3ms/step - loss: 35637182464.0000 - val_loss: 35093323776.0000\n",
            "Epoch 94/400\n",
            "119/119 [==============================] - 0s 2ms/step - loss: 35559870464.0000 - val_loss: 35087478784.0000\n",
            "Epoch 95/400\n",
            "119/119 [==============================] - 0s 2ms/step - loss: 35493187584.0000 - val_loss: 34912464896.0000\n",
            "Epoch 96/400\n",
            "119/119 [==============================] - 0s 3ms/step - loss: 35371094016.0000 - val_loss: 34829000704.0000\n",
            "Epoch 97/400\n",
            "119/119 [==============================] - 0s 3ms/step - loss: 35298070528.0000 - val_loss: 34737500160.0000\n",
            "Epoch 98/400\n",
            "119/119 [==============================] - 0s 2ms/step - loss: 35237859328.0000 - val_loss: 34681053184.0000\n",
            "Epoch 99/400\n",
            "119/119 [==============================] - 0s 2ms/step - loss: 35170988032.0000 - val_loss: 34601254912.0000\n",
            "Epoch 100/400\n",
            "119/119 [==============================] - 0s 3ms/step - loss: 35098988544.0000 - val_loss: 34514419712.0000\n",
            "Epoch 101/400\n",
            "119/119 [==============================] - 0s 2ms/step - loss: 35033587712.0000 - val_loss: 34486312960.0000\n",
            "Epoch 102/400\n",
            "119/119 [==============================] - 0s 2ms/step - loss: 34979471360.0000 - val_loss: 34384801792.0000\n",
            "Epoch 103/400\n",
            "119/119 [==============================] - 0s 3ms/step - loss: 34912976896.0000 - val_loss: 34456555520.0000\n",
            "Epoch 104/400\n",
            "119/119 [==============================] - 0s 2ms/step - loss: 34875179008.0000 - val_loss: 34256945152.0000\n",
            "Epoch 105/400\n",
            "119/119 [==============================] - 0s 3ms/step - loss: 34760769536.0000 - val_loss: 34212661248.0000\n",
            "Epoch 106/400\n",
            "119/119 [==============================] - 0s 3ms/step - loss: 34691944448.0000 - val_loss: 34227243008.0000\n",
            "Epoch 107/400\n",
            "119/119 [==============================] - 0s 2ms/step - loss: 34656911360.0000 - val_loss: 34061910016.0000\n",
            "Epoch 108/400\n",
            "119/119 [==============================] - 0s 3ms/step - loss: 34624774144.0000 - val_loss: 33992380416.0000\n",
            "Epoch 109/400\n",
            "119/119 [==============================] - 0s 3ms/step - loss: 34519314432.0000 - val_loss: 33936687104.0000\n",
            "Epoch 110/400\n",
            "119/119 [==============================] - 0s 3ms/step - loss: 34512498688.0000 - val_loss: 33878609920.0000\n",
            "Epoch 111/400\n",
            "119/119 [==============================] - 0s 3ms/step - loss: 34422902784.0000 - val_loss: 33866227712.0000\n",
            "Epoch 112/400\n",
            "119/119 [==============================] - 0s 3ms/step - loss: 34340683776.0000 - val_loss: 33857105920.0000\n",
            "Epoch 113/400\n",
            "119/119 [==============================] - 0s 2ms/step - loss: 34332956672.0000 - val_loss: 33737881600.0000\n",
            "Epoch 114/400\n",
            "119/119 [==============================] - 0s 2ms/step - loss: 34263984128.0000 - val_loss: 33634945024.0000\n",
            "Epoch 115/400\n",
            "119/119 [==============================] - 0s 3ms/step - loss: 34236647424.0000 - val_loss: 33642100736.0000\n",
            "Epoch 116/400\n",
            "119/119 [==============================] - 0s 2ms/step - loss: 34192068608.0000 - val_loss: 33526626304.0000\n",
            "Epoch 117/400\n",
            "119/119 [==============================] - 0s 2ms/step - loss: 34123059200.0000 - val_loss: 33520543744.0000\n",
            "Epoch 118/400\n",
            "119/119 [==============================] - 0s 3ms/step - loss: 34073096192.0000 - val_loss: 33407334400.0000\n",
            "Epoch 119/400\n",
            "119/119 [==============================] - 0s 2ms/step - loss: 33990289408.0000 - val_loss: 33350262784.0000\n",
            "Epoch 120/400\n",
            "119/119 [==============================] - 0s 3ms/step - loss: 33943341056.0000 - val_loss: 33388750848.0000\n",
            "Epoch 121/400\n",
            "119/119 [==============================] - 0s 2ms/step - loss: 33876768768.0000 - val_loss: 33251856384.0000\n",
            "Epoch 122/400\n",
            "119/119 [==============================] - 0s 3ms/step - loss: 33856522240.0000 - val_loss: 33223512064.0000\n",
            "Epoch 123/400\n",
            "119/119 [==============================] - 0s 3ms/step - loss: 33833854976.0000 - val_loss: 33159084032.0000\n",
            "Epoch 124/400\n",
            "119/119 [==============================] - 0s 3ms/step - loss: 33806632960.0000 - val_loss: 33118558208.0000\n",
            "Epoch 125/400\n",
            "119/119 [==============================] - 0s 3ms/step - loss: 33720190976.0000 - val_loss: 33061986304.0000\n",
            "Epoch 126/400\n",
            "119/119 [==============================] - 0s 2ms/step - loss: 33679353856.0000 - val_loss: 33029541888.0000\n",
            "Epoch 127/400\n",
            "119/119 [==============================] - 0s 3ms/step - loss: 33611255808.0000 - val_loss: 33058908160.0000\n",
            "Epoch 128/400\n",
            "119/119 [==============================] - 0s 3ms/step - loss: 33586575360.0000 - val_loss: 32941658112.0000\n",
            "Epoch 129/400\n",
            "119/119 [==============================] - 0s 2ms/step - loss: 33545455616.0000 - val_loss: 33036683264.0000\n",
            "Epoch 130/400\n",
            "119/119 [==============================] - 0s 3ms/step - loss: 33522759680.0000 - val_loss: 32895393792.0000\n",
            "Epoch 131/400\n",
            "119/119 [==============================] - 0s 3ms/step - loss: 33482219520.0000 - val_loss: 32854016000.0000\n",
            "Epoch 132/400\n",
            "119/119 [==============================] - 0s 3ms/step - loss: 33424470016.0000 - val_loss: 32792889344.0000\n",
            "Epoch 133/400\n",
            "119/119 [==============================] - 0s 3ms/step - loss: 33381609472.0000 - val_loss: 32762974208.0000\n",
            "Epoch 134/400\n",
            "119/119 [==============================] - 0s 3ms/step - loss: 33395447808.0000 - val_loss: 32714930176.0000\n",
            "Epoch 135/400\n",
            "119/119 [==============================] - 0s 3ms/step - loss: 33315354624.0000 - val_loss: 32672376832.0000\n",
            "Epoch 136/400\n",
            "119/119 [==============================] - 0s 3ms/step - loss: 33250822144.0000 - val_loss: 32653955072.0000\n",
            "Epoch 137/400\n",
            "119/119 [==============================] - 0s 3ms/step - loss: 33262718976.0000 - val_loss: 32604280832.0000\n",
            "Epoch 138/400\n",
            "119/119 [==============================] - 0s 3ms/step - loss: 33173569536.0000 - val_loss: 32644741120.0000\n",
            "Epoch 139/400\n",
            "119/119 [==============================] - 0s 3ms/step - loss: 33226530816.0000 - val_loss: 32590182400.0000\n",
            "Epoch 140/400\n",
            "119/119 [==============================] - 0s 3ms/step - loss: 33100615680.0000 - val_loss: 32640964608.0000\n",
            "Epoch 141/400\n",
            "119/119 [==============================] - 0s 3ms/step - loss: 33130366976.0000 - val_loss: 32553730048.0000\n",
            "Epoch 142/400\n",
            "119/119 [==============================] - 0s 3ms/step - loss: 33053343744.0000 - val_loss: 32422944768.0000\n",
            "Epoch 143/400\n",
            "119/119 [==============================] - 0s 3ms/step - loss: 33013774336.0000 - val_loss: 32394063872.0000\n",
            "Epoch 144/400\n",
            "119/119 [==============================] - 0s 3ms/step - loss: 32978577408.0000 - val_loss: 32367003648.0000\n",
            "Epoch 145/400\n",
            "119/119 [==============================] - 0s 3ms/step - loss: 32934428672.0000 - val_loss: 32357173248.0000\n",
            "Epoch 146/400\n",
            "119/119 [==============================] - 0s 3ms/step - loss: 32899557376.0000 - val_loss: 32406972416.0000\n",
            "Epoch 147/400\n",
            "119/119 [==============================] - 0s 3ms/step - loss: 32876638208.0000 - val_loss: 32321486848.0000\n",
            "Epoch 148/400\n",
            "119/119 [==============================] - 0s 3ms/step - loss: 32860112896.0000 - val_loss: 32238518272.0000\n",
            "Epoch 149/400\n",
            "119/119 [==============================] - 0s 2ms/step - loss: 32813553664.0000 - val_loss: 32198574080.0000\n",
            "Epoch 150/400\n",
            "119/119 [==============================] - 0s 3ms/step - loss: 32794929152.0000 - val_loss: 32207560704.0000\n",
            "Epoch 151/400\n",
            "119/119 [==============================] - 0s 2ms/step - loss: 32783992832.0000 - val_loss: 32234178560.0000\n",
            "Epoch 152/400\n",
            "119/119 [==============================] - 0s 3ms/step - loss: 32771362816.0000 - val_loss: 32137762816.0000\n",
            "Epoch 153/400\n",
            "119/119 [==============================] - 0s 3ms/step - loss: 32719104000.0000 - val_loss: 32099608576.0000\n",
            "Epoch 154/400\n",
            "119/119 [==============================] - 0s 3ms/step - loss: 32669321216.0000 - val_loss: 32065583104.0000\n",
            "Epoch 155/400\n",
            "119/119 [==============================] - 0s 3ms/step - loss: 32636919808.0000 - val_loss: 32020051968.0000\n",
            "Epoch 156/400\n",
            "119/119 [==============================] - 0s 3ms/step - loss: 32720349184.0000 - val_loss: 31979220992.0000\n",
            "Epoch 157/400\n",
            "119/119 [==============================] - 0s 3ms/step - loss: 32576935936.0000 - val_loss: 31944499200.0000\n",
            "Epoch 158/400\n",
            "119/119 [==============================] - 0s 3ms/step - loss: 32525907968.0000 - val_loss: 31947739136.0000\n",
            "Epoch 159/400\n",
            "119/119 [==============================] - 0s 3ms/step - loss: 32514410496.0000 - val_loss: 31919276032.0000\n",
            "Epoch 160/400\n",
            "119/119 [==============================] - 0s 3ms/step - loss: 32515450880.0000 - val_loss: 31901376512.0000\n",
            "Epoch 161/400\n",
            "119/119 [==============================] - 0s 3ms/step - loss: 32460582912.0000 - val_loss: 31924133888.0000\n",
            "Epoch 162/400\n",
            "119/119 [==============================] - 0s 3ms/step - loss: 32431816704.0000 - val_loss: 31907174400.0000\n",
            "Epoch 163/400\n",
            "119/119 [==============================] - 0s 3ms/step - loss: 32435857408.0000 - val_loss: 31810965504.0000\n",
            "Epoch 164/400\n",
            "119/119 [==============================] - 0s 3ms/step - loss: 32429453312.0000 - val_loss: 31761070080.0000\n",
            "Epoch 165/400\n",
            "119/119 [==============================] - 0s 3ms/step - loss: 32375902208.0000 - val_loss: 31746684928.0000\n",
            "Epoch 166/400\n",
            "119/119 [==============================] - 0s 3ms/step - loss: 32329252864.0000 - val_loss: 31747293184.0000\n",
            "Epoch 167/400\n",
            "119/119 [==============================] - 0s 3ms/step - loss: 32309794816.0000 - val_loss: 31687591936.0000\n",
            "Epoch 168/400\n",
            "119/119 [==============================] - 0s 3ms/step - loss: 32282189824.0000 - val_loss: 31662387200.0000\n",
            "Epoch 169/400\n",
            "119/119 [==============================] - 0s 3ms/step - loss: 32268019712.0000 - val_loss: 31698096128.0000\n",
            "Epoch 170/400\n",
            "119/119 [==============================] - 0s 3ms/step - loss: 32221659136.0000 - val_loss: 31604520960.0000\n",
            "Epoch 171/400\n",
            "119/119 [==============================] - 0s 3ms/step - loss: 32214284288.0000 - val_loss: 31579817984.0000\n",
            "Epoch 172/400\n",
            "119/119 [==============================] - 0s 3ms/step - loss: 32201396224.0000 - val_loss: 31663122432.0000\n",
            "Epoch 173/400\n",
            "119/119 [==============================] - 0s 3ms/step - loss: 32168464384.0000 - val_loss: 31539499008.0000\n",
            "Epoch 174/400\n",
            "119/119 [==============================] - 0s 3ms/step - loss: 32147146752.0000 - val_loss: 31512662016.0000\n",
            "Epoch 175/400\n",
            "119/119 [==============================] - 0s 3ms/step - loss: 32125808640.0000 - val_loss: 31490117632.0000\n",
            "Epoch 176/400\n",
            "119/119 [==============================] - 0s 2ms/step - loss: 32095545344.0000 - val_loss: 31458586624.0000\n",
            "Epoch 177/400\n",
            "119/119 [==============================] - 0s 3ms/step - loss: 32064546816.0000 - val_loss: 31434364928.0000\n",
            "Epoch 178/400\n",
            "119/119 [==============================] - 0s 2ms/step - loss: 32050444288.0000 - val_loss: 31405105152.0000\n",
            "Epoch 179/400\n",
            "119/119 [==============================] - 0s 3ms/step - loss: 32019021824.0000 - val_loss: 31411910656.0000\n",
            "Epoch 180/400\n",
            "119/119 [==============================] - 0s 3ms/step - loss: 31985629184.0000 - val_loss: 31418267648.0000\n",
            "Epoch 181/400\n",
            "119/119 [==============================] - 0s 3ms/step - loss: 32027361280.0000 - val_loss: 31359959040.0000\n",
            "Epoch 182/400\n",
            "119/119 [==============================] - 0s 3ms/step - loss: 31961376768.0000 - val_loss: 31337070592.0000\n",
            "Epoch 183/400\n",
            "119/119 [==============================] - 0s 3ms/step - loss: 31946973184.0000 - val_loss: 31307698176.0000\n",
            "Epoch 184/400\n",
            "119/119 [==============================] - 0s 3ms/step - loss: 31900864512.0000 - val_loss: 31267694592.0000\n",
            "Epoch 185/400\n",
            "119/119 [==============================] - 0s 3ms/step - loss: 31894900736.0000 - val_loss: 31249395712.0000\n",
            "Epoch 186/400\n",
            "119/119 [==============================] - 0s 3ms/step - loss: 31848425472.0000 - val_loss: 31222538240.0000\n",
            "Epoch 187/400\n",
            "119/119 [==============================] - 0s 2ms/step - loss: 31840380928.0000 - val_loss: 31235706880.0000\n",
            "Epoch 188/400\n",
            "119/119 [==============================] - 0s 3ms/step - loss: 31836254208.0000 - val_loss: 31191183360.0000\n",
            "Epoch 189/400\n",
            "119/119 [==============================] - 0s 3ms/step - loss: 31807803392.0000 - val_loss: 31175073792.0000\n",
            "Epoch 190/400\n",
            "119/119 [==============================] - 0s 3ms/step - loss: 31780542464.0000 - val_loss: 31207622656.0000\n",
            "Epoch 191/400\n",
            "119/119 [==============================] - 0s 3ms/step - loss: 31748345856.0000 - val_loss: 31124191232.0000\n",
            "Epoch 192/400\n",
            "119/119 [==============================] - 0s 3ms/step - loss: 31716259840.0000 - val_loss: 31112042496.0000\n",
            "Epoch 193/400\n",
            "119/119 [==============================] - 0s 3ms/step - loss: 31703482368.0000 - val_loss: 31089592320.0000\n",
            "Epoch 194/400\n",
            "119/119 [==============================] - 0s 3ms/step - loss: 31732791296.0000 - val_loss: 31060088832.0000\n",
            "Epoch 195/400\n",
            "119/119 [==============================] - 0s 3ms/step - loss: 31670126592.0000 - val_loss: 31061501952.0000\n",
            "Epoch 196/400\n",
            "119/119 [==============================] - 0s 3ms/step - loss: 31674368000.0000 - val_loss: 31065821184.0000\n",
            "Epoch 197/400\n",
            "119/119 [==============================] - 0s 3ms/step - loss: 31633698816.0000 - val_loss: 31021709312.0000\n",
            "Epoch 198/400\n",
            "119/119 [==============================] - 0s 3ms/step - loss: 31629363200.0000 - val_loss: 30994946048.0000\n",
            "Epoch 199/400\n",
            "119/119 [==============================] - 0s 3ms/step - loss: 31585304576.0000 - val_loss: 31000731648.0000\n",
            "Epoch 200/400\n",
            "119/119 [==============================] - 0s 3ms/step - loss: 31596023808.0000 - val_loss: 30978263040.0000\n",
            "Epoch 201/400\n",
            "119/119 [==============================] - 0s 3ms/step - loss: 31600607232.0000 - val_loss: 30919976960.0000\n",
            "Epoch 202/400\n",
            "119/119 [==============================] - 0s 3ms/step - loss: 31576920064.0000 - val_loss: 30893635584.0000\n",
            "Epoch 203/400\n",
            "119/119 [==============================] - 0s 3ms/step - loss: 31512649728.0000 - val_loss: 30967656448.0000\n",
            "Epoch 204/400\n",
            "119/119 [==============================] - 0s 3ms/step - loss: 31486177280.0000 - val_loss: 30852771840.0000\n",
            "Epoch 205/400\n",
            "119/119 [==============================] - 0s 3ms/step - loss: 31514437632.0000 - val_loss: 30832132096.0000\n",
            "Epoch 206/400\n",
            "119/119 [==============================] - 0s 3ms/step - loss: 31408285696.0000 - val_loss: 30867216384.0000\n",
            "Epoch 207/400\n",
            "119/119 [==============================] - 0s 3ms/step - loss: 31457007616.0000 - val_loss: 30842134528.0000\n",
            "Epoch 208/400\n",
            "119/119 [==============================] - 0s 3ms/step - loss: 31384412160.0000 - val_loss: 30786154496.0000\n",
            "Epoch 209/400\n",
            "119/119 [==============================] - 0s 3ms/step - loss: 31375423488.0000 - val_loss: 30761662464.0000\n",
            "Epoch 210/400\n",
            "119/119 [==============================] - 0s 3ms/step - loss: 31364562944.0000 - val_loss: 30749136896.0000\n",
            "Epoch 211/400\n",
            "119/119 [==============================] - 0s 3ms/step - loss: 31408140288.0000 - val_loss: 30753638400.0000\n",
            "Epoch 212/400\n",
            "119/119 [==============================] - 0s 3ms/step - loss: 31329990656.0000 - val_loss: 30746511360.0000\n",
            "Epoch 213/400\n",
            "119/119 [==============================] - 0s 3ms/step - loss: 31322802176.0000 - val_loss: 30679300096.0000\n",
            "Epoch 214/400\n",
            "119/119 [==============================] - 0s 3ms/step - loss: 31345713152.0000 - val_loss: 30692913152.0000\n",
            "Epoch 215/400\n",
            "119/119 [==============================] - 0s 3ms/step - loss: 31261790208.0000 - val_loss: 30643814400.0000\n",
            "Epoch 216/400\n",
            "119/119 [==============================] - 0s 3ms/step - loss: 31231635456.0000 - val_loss: 30622064640.0000\n",
            "Epoch 217/400\n",
            "119/119 [==============================] - 0s 3ms/step - loss: 31233193984.0000 - val_loss: 30633592832.0000\n",
            "Epoch 218/400\n",
            "119/119 [==============================] - 0s 2ms/step - loss: 31202179072.0000 - val_loss: 30652172288.0000\n",
            "Epoch 219/400\n",
            "119/119 [==============================] - 0s 3ms/step - loss: 31217930240.0000 - val_loss: 30587795456.0000\n",
            "Epoch 220/400\n",
            "119/119 [==============================] - 0s 3ms/step - loss: 31164352512.0000 - val_loss: 30623893504.0000\n",
            "Epoch 221/400\n",
            "119/119 [==============================] - 0s 3ms/step - loss: 31169529856.0000 - val_loss: 30624448512.0000\n",
            "Epoch 222/400\n",
            "119/119 [==============================] - 0s 3ms/step - loss: 31120642048.0000 - val_loss: 30647029760.0000\n",
            "Epoch 223/400\n",
            "119/119 [==============================] - 0s 3ms/step - loss: 31099992064.0000 - val_loss: 30533302272.0000\n",
            "Epoch 224/400\n",
            "119/119 [==============================] - 0s 3ms/step - loss: 31079393280.0000 - val_loss: 30529644544.0000\n",
            "Epoch 225/400\n",
            "119/119 [==============================] - 0s 3ms/step - loss: 31022651392.0000 - val_loss: 30516148224.0000\n",
            "Epoch 226/400\n",
            "119/119 [==============================] - 0s 3ms/step - loss: 31058348032.0000 - val_loss: 30490810368.0000\n",
            "Epoch 227/400\n",
            "119/119 [==============================] - 0s 3ms/step - loss: 31020142592.0000 - val_loss: 30527203328.0000\n",
            "Epoch 228/400\n",
            "119/119 [==============================] - 0s 3ms/step - loss: 31122286592.0000 - val_loss: 30567231488.0000\n",
            "Epoch 229/400\n",
            "119/119 [==============================] - 0s 3ms/step - loss: 31025922048.0000 - val_loss: 30460137472.0000\n",
            "Epoch 230/400\n",
            "119/119 [==============================] - 0s 3ms/step - loss: 31000010752.0000 - val_loss: 30428188672.0000\n",
            "Epoch 231/400\n",
            "119/119 [==============================] - 0s 3ms/step - loss: 30973632512.0000 - val_loss: 30377144320.0000\n",
            "Epoch 232/400\n",
            "119/119 [==============================] - 0s 3ms/step - loss: 30926827520.0000 - val_loss: 30361946112.0000\n",
            "Epoch 233/400\n",
            "119/119 [==============================] - 0s 3ms/step - loss: 30944339968.0000 - val_loss: 30356477952.0000\n",
            "Epoch 234/400\n",
            "119/119 [==============================] - 0s 3ms/step - loss: 30901504000.0000 - val_loss: 30468122624.0000\n",
            "Epoch 235/400\n",
            "119/119 [==============================] - 0s 3ms/step - loss: 30891094016.0000 - val_loss: 30318151680.0000\n",
            "Epoch 236/400\n",
            "119/119 [==============================] - 0s 3ms/step - loss: 30886922240.0000 - val_loss: 30317840384.0000\n",
            "Epoch 237/400\n",
            "119/119 [==============================] - 0s 3ms/step - loss: 30865238016.0000 - val_loss: 30295799808.0000\n",
            "Epoch 238/400\n",
            "119/119 [==============================] - 0s 3ms/step - loss: 30836299776.0000 - val_loss: 30300592128.0000\n",
            "Epoch 239/400\n",
            "119/119 [==============================] - 0s 3ms/step - loss: 30830934016.0000 - val_loss: 30304768000.0000\n",
            "Epoch 240/400\n",
            "119/119 [==============================] - 0s 3ms/step - loss: 30796124160.0000 - val_loss: 30309113856.0000\n",
            "Epoch 241/400\n",
            "119/119 [==============================] - 0s 3ms/step - loss: 30779996160.0000 - val_loss: 30245806080.0000\n",
            "Epoch 242/400\n",
            "119/119 [==============================] - 0s 3ms/step - loss: 30770204672.0000 - val_loss: 30311567360.0000\n",
            "Epoch 243/400\n",
            "119/119 [==============================] - 0s 3ms/step - loss: 30798192640.0000 - val_loss: 30210277376.0000\n",
            "Epoch 244/400\n",
            "119/119 [==============================] - 0s 3ms/step - loss: 30750838784.0000 - val_loss: 30195048448.0000\n",
            "Epoch 245/400\n",
            "119/119 [==============================] - 0s 3ms/step - loss: 30706933760.0000 - val_loss: 30228912128.0000\n",
            "Epoch 246/400\n",
            "119/119 [==============================] - 0s 3ms/step - loss: 30713382912.0000 - val_loss: 30199453696.0000\n",
            "Epoch 247/400\n",
            "119/119 [==============================] - 0s 3ms/step - loss: 30730299392.0000 - val_loss: 30143815680.0000\n",
            "Epoch 248/400\n",
            "119/119 [==============================] - 0s 3ms/step - loss: 30682380288.0000 - val_loss: 30179989504.0000\n",
            "Epoch 249/400\n",
            "119/119 [==============================] - 0s 3ms/step - loss: 30647848960.0000 - val_loss: 30121969664.0000\n",
            "Epoch 250/400\n",
            "119/119 [==============================] - 0s 3ms/step - loss: 30625595392.0000 - val_loss: 30177974272.0000\n",
            "Epoch 251/400\n",
            "119/119 [==============================] - 0s 3ms/step - loss: 30602835968.0000 - val_loss: 30102706176.0000\n",
            "Epoch 252/400\n",
            "119/119 [==============================] - 0s 3ms/step - loss: 30651504640.0000 - val_loss: 30105595904.0000\n",
            "Epoch 253/400\n",
            "119/119 [==============================] - 0s 3ms/step - loss: 30583377920.0000 - val_loss: 30081497088.0000\n",
            "Epoch 254/400\n",
            "119/119 [==============================] - 0s 3ms/step - loss: 30582489088.0000 - val_loss: 30055919616.0000\n",
            "Epoch 255/400\n",
            "119/119 [==============================] - 0s 3ms/step - loss: 30598064128.0000 - val_loss: 30035810304.0000\n",
            "Epoch 256/400\n",
            "119/119 [==============================] - 0s 3ms/step - loss: 30570045440.0000 - val_loss: 30046935040.0000\n",
            "Epoch 257/400\n",
            "119/119 [==============================] - 0s 3ms/step - loss: 30515380224.0000 - val_loss: 30055313408.0000\n",
            "Epoch 258/400\n",
            "119/119 [==============================] - 0s 3ms/step - loss: 30508419072.0000 - val_loss: 30063800320.0000\n",
            "Epoch 259/400\n",
            "119/119 [==============================] - 0s 3ms/step - loss: 30518198272.0000 - val_loss: 29978574848.0000\n",
            "Epoch 260/400\n",
            "119/119 [==============================] - 0s 3ms/step - loss: 30508255232.0000 - val_loss: 29980829696.0000\n",
            "Epoch 261/400\n",
            "119/119 [==============================] - 0s 3ms/step - loss: 30520344576.0000 - val_loss: 29987928064.0000\n",
            "Epoch 262/400\n",
            "119/119 [==============================] - 0s 3ms/step - loss: 30423578624.0000 - val_loss: 29990688768.0000\n",
            "Epoch 263/400\n",
            "119/119 [==============================] - 0s 3ms/step - loss: 30464456704.0000 - val_loss: 29932410880.0000\n",
            "Epoch 264/400\n",
            "119/119 [==============================] - 0s 3ms/step - loss: 30409426944.0000 - val_loss: 29911812096.0000\n",
            "Epoch 265/400\n",
            "119/119 [==============================] - 0s 3ms/step - loss: 30394300416.0000 - val_loss: 29907724288.0000\n",
            "Epoch 266/400\n",
            "119/119 [==============================] - 0s 3ms/step - loss: 30415239168.0000 - val_loss: 29931012096.0000\n",
            "Epoch 267/400\n",
            "119/119 [==============================] - 0s 3ms/step - loss: 30351360000.0000 - val_loss: 29872941056.0000\n",
            "Epoch 268/400\n",
            "119/119 [==============================] - 0s 3ms/step - loss: 30333214720.0000 - val_loss: 29855215616.0000\n",
            "Epoch 269/400\n",
            "119/119 [==============================] - 0s 3ms/step - loss: 30341607424.0000 - val_loss: 29875978240.0000\n",
            "Epoch 270/400\n",
            "119/119 [==============================] - 0s 3ms/step - loss: 30326931456.0000 - val_loss: 29846478848.0000\n",
            "Epoch 271/400\n",
            "119/119 [==============================] - 0s 3ms/step - loss: 30287476736.0000 - val_loss: 29825011712.0000\n",
            "Epoch 272/400\n",
            "119/119 [==============================] - 0s 3ms/step - loss: 30281846784.0000 - val_loss: 29815384064.0000\n",
            "Epoch 273/400\n",
            "119/119 [==============================] - 0s 3ms/step - loss: 30302046208.0000 - val_loss: 29799489536.0000\n",
            "Epoch 274/400\n",
            "119/119 [==============================] - 0s 3ms/step - loss: 30265366528.0000 - val_loss: 29978910720.0000\n",
            "Epoch 275/400\n",
            "119/119 [==============================] - 0s 3ms/step - loss: 30255888384.0000 - val_loss: 29775716352.0000\n",
            "Epoch 276/400\n",
            "119/119 [==============================] - 0s 3ms/step - loss: 30219573248.0000 - val_loss: 29763780608.0000\n",
            "Epoch 277/400\n",
            "119/119 [==============================] - 0s 3ms/step - loss: 30239602688.0000 - val_loss: 29766572032.0000\n",
            "Epoch 278/400\n",
            "119/119 [==============================] - 0s 3ms/step - loss: 30185848832.0000 - val_loss: 29873383424.0000\n",
            "Epoch 279/400\n",
            "119/119 [==============================] - 0s 3ms/step - loss: 30173982720.0000 - val_loss: 29719470080.0000\n",
            "Epoch 280/400\n",
            "119/119 [==============================] - 0s 3ms/step - loss: 30142574592.0000 - val_loss: 29709443072.0000\n",
            "Epoch 281/400\n",
            "119/119 [==============================] - 0s 3ms/step - loss: 30139815936.0000 - val_loss: 29703086080.0000\n",
            "Epoch 282/400\n",
            "119/119 [==============================] - 0s 3ms/step - loss: 30134751232.0000 - val_loss: 29725169664.0000\n",
            "Epoch 283/400\n",
            "119/119 [==============================] - 0s 3ms/step - loss: 30138677248.0000 - val_loss: 29717084160.0000\n",
            "Epoch 284/400\n",
            "119/119 [==============================] - 0s 3ms/step - loss: 30119630848.0000 - val_loss: 29680721920.0000\n",
            "Epoch 285/400\n",
            "119/119 [==============================] - 0s 3ms/step - loss: 30127415296.0000 - val_loss: 29667493888.0000\n",
            "Epoch 286/400\n",
            "119/119 [==============================] - 0s 3ms/step - loss: 30078330880.0000 - val_loss: 29634758656.0000\n",
            "Epoch 287/400\n",
            "119/119 [==============================] - 0s 3ms/step - loss: 30078146560.0000 - val_loss: 29635565568.0000\n",
            "Epoch 288/400\n",
            "119/119 [==============================] - 0s 3ms/step - loss: 30054975488.0000 - val_loss: 29628248064.0000\n",
            "Epoch 289/400\n",
            "119/119 [==============================] - 0s 3ms/step - loss: 30003054592.0000 - val_loss: 29608904704.0000\n",
            "Epoch 290/400\n",
            "119/119 [==============================] - 0s 3ms/step - loss: 30021724160.0000 - val_loss: 29780287488.0000\n",
            "Epoch 291/400\n",
            "119/119 [==============================] - 0s 3ms/step - loss: 30024398848.0000 - val_loss: 29591343104.0000\n",
            "Epoch 292/400\n",
            "119/119 [==============================] - 0s 3ms/step - loss: 29998895104.0000 - val_loss: 29560631296.0000\n",
            "Epoch 293/400\n",
            "119/119 [==============================] - 0s 3ms/step - loss: 30005174272.0000 - val_loss: 29617010688.0000\n",
            "Epoch 294/400\n",
            "119/119 [==============================] - 0s 3ms/step - loss: 29995689984.0000 - val_loss: 29536090112.0000\n",
            "Epoch 295/400\n",
            "119/119 [==============================] - 0s 3ms/step - loss: 29930762240.0000 - val_loss: 29585031168.0000\n",
            "Epoch 296/400\n",
            "119/119 [==============================] - 0s 3ms/step - loss: 29923688448.0000 - val_loss: 29511880704.0000\n",
            "Epoch 297/400\n",
            "119/119 [==============================] - 0s 3ms/step - loss: 29898766336.0000 - val_loss: 29489473536.0000\n",
            "Epoch 298/400\n",
            "119/119 [==============================] - 0s 3ms/step - loss: 29866121216.0000 - val_loss: 29540902912.0000\n",
            "Epoch 299/400\n",
            "119/119 [==============================] - 0s 3ms/step - loss: 29881712640.0000 - val_loss: 29513439232.0000\n",
            "Epoch 300/400\n",
            "119/119 [==============================] - 0s 3ms/step - loss: 29866176512.0000 - val_loss: 29605165056.0000\n",
            "Epoch 301/400\n",
            "119/119 [==============================] - 0s 3ms/step - loss: 29812590592.0000 - val_loss: 29496977408.0000\n",
            "Epoch 302/400\n",
            "119/119 [==============================] - 0s 3ms/step - loss: 29801140224.0000 - val_loss: 29427617792.0000\n",
            "Epoch 303/400\n",
            "119/119 [==============================] - 0s 3ms/step - loss: 29830021120.0000 - val_loss: 29421373440.0000\n",
            "Epoch 304/400\n",
            "119/119 [==============================] - 0s 3ms/step - loss: 29774358528.0000 - val_loss: 29419679744.0000\n",
            "Epoch 305/400\n",
            "119/119 [==============================] - 0s 3ms/step - loss: 29742276608.0000 - val_loss: 29486692352.0000\n",
            "Epoch 306/400\n",
            "119/119 [==============================] - 0s 3ms/step - loss: 29766588416.0000 - val_loss: 29360984064.0000\n",
            "Epoch 307/400\n",
            "119/119 [==============================] - 0s 3ms/step - loss: 29730285568.0000 - val_loss: 29466806272.0000\n",
            "Epoch 308/400\n",
            "119/119 [==============================] - 0s 3ms/step - loss: 29720889344.0000 - val_loss: 29355028480.0000\n",
            "Epoch 309/400\n",
            "119/119 [==============================] - 0s 3ms/step - loss: 29722869760.0000 - val_loss: 29393575936.0000\n",
            "Epoch 310/400\n",
            "119/119 [==============================] - 0s 3ms/step - loss: 29713922048.0000 - val_loss: 29351018496.0000\n",
            "Epoch 311/400\n",
            "119/119 [==============================] - 0s 3ms/step - loss: 29673854976.0000 - val_loss: 29324726272.0000\n",
            "Epoch 312/400\n",
            "119/119 [==============================] - 0s 3ms/step - loss: 29687681024.0000 - val_loss: 29295104000.0000\n",
            "Epoch 313/400\n",
            "119/119 [==============================] - 0s 3ms/step - loss: 29600911360.0000 - val_loss: 29676500992.0000\n",
            "Epoch 314/400\n",
            "119/119 [==============================] - 0s 3ms/step - loss: 29663385600.0000 - val_loss: 29300127744.0000\n",
            "Epoch 315/400\n",
            "119/119 [==============================] - 0s 3ms/step - loss: 29610178560.0000 - val_loss: 29249241088.0000\n",
            "Epoch 316/400\n",
            "119/119 [==============================] - 0s 3ms/step - loss: 29572792320.0000 - val_loss: 29246971904.0000\n",
            "Epoch 317/400\n",
            "119/119 [==============================] - 0s 3ms/step - loss: 29591713792.0000 - val_loss: 29271572480.0000\n",
            "Epoch 318/400\n",
            "119/119 [==============================] - 0s 3ms/step - loss: 29565552640.0000 - val_loss: 29211570176.0000\n",
            "Epoch 319/400\n",
            "119/119 [==============================] - 0s 3ms/step - loss: 29566228480.0000 - val_loss: 29216319488.0000\n",
            "Epoch 320/400\n",
            "119/119 [==============================] - 0s 3ms/step - loss: 29518753792.0000 - val_loss: 29249490944.0000\n",
            "Epoch 321/400\n",
            "119/119 [==============================] - 0s 3ms/step - loss: 29538523136.0000 - val_loss: 29208506368.0000\n",
            "Epoch 322/400\n",
            "119/119 [==============================] - 0s 3ms/step - loss: 29498615808.0000 - val_loss: 29175345152.0000\n",
            "Epoch 323/400\n",
            "119/119 [==============================] - 0s 3ms/step - loss: 29466333184.0000 - val_loss: 29136132096.0000\n",
            "Epoch 324/400\n",
            "119/119 [==============================] - 0s 3ms/step - loss: 29474471936.0000 - val_loss: 29130854400.0000\n",
            "Epoch 325/400\n",
            "119/119 [==============================] - 0s 3ms/step - loss: 29444007936.0000 - val_loss: 29117497344.0000\n",
            "Epoch 326/400\n",
            "119/119 [==============================] - 0s 3ms/step - loss: 29417988096.0000 - val_loss: 29111672832.0000\n",
            "Epoch 327/400\n",
            "119/119 [==============================] - 0s 3ms/step - loss: 29406998528.0000 - val_loss: 29120454656.0000\n",
            "Epoch 328/400\n",
            "119/119 [==============================] - 0s 3ms/step - loss: 29415636992.0000 - val_loss: 29132632064.0000\n",
            "Epoch 329/400\n",
            "119/119 [==============================] - 0s 3ms/step - loss: 29434660864.0000 - val_loss: 29065783296.0000\n",
            "Epoch 330/400\n",
            "119/119 [==============================] - 0s 3ms/step - loss: 29375152128.0000 - val_loss: 29172791296.0000\n",
            "Epoch 331/400\n",
            "119/119 [==============================] - 0s 3ms/step - loss: 29350844416.0000 - val_loss: 29088225280.0000\n",
            "Epoch 332/400\n",
            "119/119 [==============================] - 0s 3ms/step - loss: 29331714048.0000 - val_loss: 29057132544.0000\n",
            "Epoch 333/400\n",
            "119/119 [==============================] - 0s 3ms/step - loss: 29307265024.0000 - val_loss: 29051514880.0000\n",
            "Epoch 334/400\n",
            "119/119 [==============================] - 0s 3ms/step - loss: 29282736128.0000 - val_loss: 29151455232.0000\n",
            "Epoch 335/400\n",
            "119/119 [==============================] - 0s 3ms/step - loss: 29295360000.0000 - val_loss: 29031577600.0000\n",
            "Epoch 336/400\n",
            "119/119 [==============================] - 0s 3ms/step - loss: 29265670144.0000 - val_loss: 28961779712.0000\n",
            "Epoch 337/400\n",
            "119/119 [==============================] - 0s 3ms/step - loss: 29236926464.0000 - val_loss: 28953317376.0000\n",
            "Epoch 338/400\n",
            "119/119 [==============================] - 0s 3ms/step - loss: 29201651712.0000 - val_loss: 28965834752.0000\n",
            "Epoch 339/400\n",
            "119/119 [==============================] - 0s 3ms/step - loss: 29201678336.0000 - val_loss: 28962285568.0000\n",
            "Epoch 340/400\n",
            "119/119 [==============================] - 0s 3ms/step - loss: 29178056704.0000 - val_loss: 28969752576.0000\n",
            "Epoch 341/400\n",
            "119/119 [==============================] - 0s 3ms/step - loss: 29211959296.0000 - val_loss: 28923099136.0000\n",
            "Epoch 342/400\n",
            "119/119 [==============================] - 0s 3ms/step - loss: 29137489920.0000 - val_loss: 28942448640.0000\n",
            "Epoch 343/400\n",
            "119/119 [==============================] - 0s 3ms/step - loss: 29138675712.0000 - val_loss: 28900208640.0000\n",
            "Epoch 344/400\n",
            "119/119 [==============================] - 0s 3ms/step - loss: 29130471424.0000 - val_loss: 28873363456.0000\n",
            "Epoch 345/400\n",
            "119/119 [==============================] - 0s 3ms/step - loss: 29108633600.0000 - val_loss: 28982128640.0000\n",
            "Epoch 346/400\n",
            "119/119 [==============================] - 0s 3ms/step - loss: 29099565056.0000 - val_loss: 29029251072.0000\n",
            "Epoch 347/400\n",
            "119/119 [==============================] - 0s 3ms/step - loss: 29111083008.0000 - val_loss: 28856872960.0000\n",
            "Epoch 348/400\n",
            "119/119 [==============================] - 0s 3ms/step - loss: 29045936128.0000 - val_loss: 28922484736.0000\n",
            "Epoch 349/400\n",
            "119/119 [==============================] - 0s 3ms/step - loss: 29010137088.0000 - val_loss: 28865277952.0000\n",
            "Epoch 350/400\n",
            "119/119 [==============================] - 0s 3ms/step - loss: 29025210368.0000 - val_loss: 28829560832.0000\n",
            "Epoch 351/400\n",
            "119/119 [==============================] - 0s 3ms/step - loss: 29002039296.0000 - val_loss: 28828567552.0000\n",
            "Epoch 352/400\n",
            "119/119 [==============================] - 0s 3ms/step - loss: 28959295488.0000 - val_loss: 28809414656.0000\n",
            "Epoch 353/400\n",
            "119/119 [==============================] - 0s 3ms/step - loss: 28969838592.0000 - val_loss: 28804732928.0000\n",
            "Epoch 354/400\n",
            "119/119 [==============================] - 0s 3ms/step - loss: 28943544320.0000 - val_loss: 28759240704.0000\n",
            "Epoch 355/400\n",
            "119/119 [==============================] - 0s 3ms/step - loss: 28890378240.0000 - val_loss: 28814163968.0000\n",
            "Epoch 356/400\n",
            "119/119 [==============================] - 0s 3ms/step - loss: 28949983232.0000 - val_loss: 28766980096.0000\n",
            "Epoch 357/400\n",
            "119/119 [==============================] - 0s 3ms/step - loss: 28881899520.0000 - val_loss: 28820072448.0000\n",
            "Epoch 358/400\n",
            "119/119 [==============================] - 0s 3ms/step - loss: 28864161792.0000 - val_loss: 28714885120.0000\n",
            "Epoch 359/400\n",
            "119/119 [==============================] - 0s 3ms/step - loss: 28853676032.0000 - val_loss: 28728582144.0000\n",
            "Epoch 360/400\n",
            "119/119 [==============================] - 0s 3ms/step - loss: 28825653248.0000 - val_loss: 28699117568.0000\n",
            "Epoch 361/400\n",
            "119/119 [==============================] - 0s 3ms/step - loss: 28804757504.0000 - val_loss: 28685287424.0000\n",
            "Epoch 362/400\n",
            "119/119 [==============================] - 0s 3ms/step - loss: 28790902784.0000 - val_loss: 28698058752.0000\n",
            "Epoch 363/400\n",
            "119/119 [==============================] - 0s 3ms/step - loss: 28794585088.0000 - val_loss: 28636307456.0000\n",
            "Epoch 364/400\n",
            "119/119 [==============================] - 0s 3ms/step - loss: 28744108032.0000 - val_loss: 28629796864.0000\n",
            "Epoch 365/400\n",
            "119/119 [==============================] - 0s 3ms/step - loss: 28728928256.0000 - val_loss: 28665645056.0000\n",
            "Epoch 366/400\n",
            "119/119 [==============================] - 0s 3ms/step - loss: 28704876544.0000 - val_loss: 28808022016.0000\n",
            "Epoch 367/400\n",
            "119/119 [==============================] - 0s 3ms/step - loss: 28722712576.0000 - val_loss: 28589455360.0000\n",
            "Epoch 368/400\n",
            "119/119 [==============================] - 0s 3ms/step - loss: 28693749760.0000 - val_loss: 28573149184.0000\n",
            "Epoch 369/400\n",
            "119/119 [==============================] - 0s 3ms/step - loss: 28697208832.0000 - val_loss: 28565334016.0000\n",
            "Epoch 370/400\n",
            "119/119 [==============================] - 0s 3ms/step - loss: 28653254656.0000 - val_loss: 28593403904.0000\n",
            "Epoch 371/400\n",
            "119/119 [==============================] - 0s 3ms/step - loss: 28631119872.0000 - val_loss: 28508078080.0000\n",
            "Epoch 372/400\n",
            "119/119 [==============================] - 0s 3ms/step - loss: 28593799168.0000 - val_loss: 28516042752.0000\n",
            "Epoch 373/400\n",
            "119/119 [==============================] - 0s 3ms/step - loss: 28577128448.0000 - val_loss: 28486973440.0000\n",
            "Epoch 374/400\n",
            "119/119 [==============================] - 0s 3ms/step - loss: 28654098432.0000 - val_loss: 28466841600.0000\n",
            "Epoch 375/400\n",
            "119/119 [==============================] - 0s 3ms/step - loss: 28525207552.0000 - val_loss: 28479227904.0000\n",
            "Epoch 376/400\n",
            "119/119 [==============================] - 0s 3ms/step - loss: 28494555136.0000 - val_loss: 28451495936.0000\n",
            "Epoch 377/400\n",
            "119/119 [==============================] - 0s 3ms/step - loss: 28489207808.0000 - val_loss: 28433930240.0000\n",
            "Epoch 378/400\n",
            "119/119 [==============================] - 0s 3ms/step - loss: 28447229952.0000 - val_loss: 28416841728.0000\n",
            "Epoch 379/400\n",
            "119/119 [==============================] - 0s 3ms/step - loss: 28431665152.0000 - val_loss: 28419368960.0000\n",
            "Epoch 380/400\n",
            "119/119 [==============================] - 0s 3ms/step - loss: 28437133312.0000 - val_loss: 28589611008.0000\n",
            "Epoch 381/400\n",
            "119/119 [==============================] - 0s 3ms/step - loss: 28399673344.0000 - val_loss: 28434991104.0000\n",
            "Epoch 382/400\n",
            "119/119 [==============================] - 0s 3ms/step - loss: 28433283072.0000 - val_loss: 28378073088.0000\n",
            "Epoch 383/400\n",
            "119/119 [==============================] - 0s 3ms/step - loss: 28379236352.0000 - val_loss: 28374259712.0000\n",
            "Epoch 384/400\n",
            "119/119 [==============================] - 0s 3ms/step - loss: 28423946240.0000 - val_loss: 28354224128.0000\n",
            "Epoch 385/400\n",
            "119/119 [==============================] - 0s 3ms/step - loss: 28337096704.0000 - val_loss: 28376254464.0000\n",
            "Epoch 386/400\n",
            "119/119 [==============================] - 0s 3ms/step - loss: 28333705216.0000 - val_loss: 28330127360.0000\n",
            "Epoch 387/400\n",
            "119/119 [==============================] - 0s 3ms/step - loss: 28328900608.0000 - val_loss: 28370491392.0000\n",
            "Epoch 388/400\n",
            "119/119 [==============================] - 0s 3ms/step - loss: 28277012480.0000 - val_loss: 28398383104.0000\n",
            "Epoch 389/400\n",
            "119/119 [==============================] - 0s 3ms/step - loss: 28259465216.0000 - val_loss: 28291411968.0000\n",
            "Epoch 390/400\n",
            "119/119 [==============================] - 0s 3ms/step - loss: 28243585024.0000 - val_loss: 28288155648.0000\n",
            "Epoch 391/400\n",
            "119/119 [==============================] - 0s 3ms/step - loss: 28249505792.0000 - val_loss: 28255924224.0000\n",
            "Epoch 392/400\n",
            "119/119 [==============================] - 0s 3ms/step - loss: 28226504704.0000 - val_loss: 28302770176.0000\n",
            "Epoch 393/400\n",
            "119/119 [==============================] - 0s 3ms/step - loss: 28152815616.0000 - val_loss: 28243281920.0000\n",
            "Epoch 394/400\n",
            "119/119 [==============================] - 0s 3ms/step - loss: 28170801152.0000 - val_loss: 28271896576.0000\n",
            "Epoch 395/400\n",
            "119/119 [==============================] - 0s 3ms/step - loss: 28123932672.0000 - val_loss: 28218537984.0000\n",
            "Epoch 396/400\n",
            "119/119 [==============================] - 0s 3ms/step - loss: 28158629888.0000 - val_loss: 28179709952.0000\n",
            "Epoch 397/400\n",
            "119/119 [==============================] - 0s 3ms/step - loss: 28135669760.0000 - val_loss: 28204259328.0000\n",
            "Epoch 398/400\n",
            "119/119 [==============================] - 0s 3ms/step - loss: 28135778304.0000 - val_loss: 28181655552.0000\n",
            "Epoch 399/400\n",
            "119/119 [==============================] - 0s 3ms/step - loss: 28057473024.0000 - val_loss: 28150509568.0000\n",
            "Epoch 400/400\n",
            "119/119 [==============================] - 0s 3ms/step - loss: 28051220480.0000 - val_loss: 28146061312.0000\n"
          ]
        },
        {
          "output_type": "execute_result",
          "data": {
            "text/plain": [
              "<keras.callbacks.History at 0x7f41849a9c10>"
            ]
          },
          "metadata": {},
          "execution_count": 46
        }
      ]
    },
    {
      "cell_type": "code",
      "metadata": {
        "id": "GfG84E-NfH3D"
      },
      "source": [
        "losses = pd.DataFrame(model.history.history)"
      ],
      "execution_count": 47,
      "outputs": []
    },
    {
      "cell_type": "code",
      "metadata": {
        "id": "ojjGLOxTfH3D",
        "colab": {
          "base_uri": "https://localhost:8080/",
          "height": 294
        },
        "outputId": "df643890-bda5-4dd7-a051-6cfdf4a227e6"
      },
      "source": [
        "losses.plot()"
      ],
      "execution_count": 48,
      "outputs": [
        {
          "output_type": "execute_result",
          "data": {
            "text/plain": [
              "<matplotlib.axes._subplots.AxesSubplot at 0x7f4180214150>"
            ]
          },
          "metadata": {},
          "execution_count": 48
        },
        {
          "output_type": "display_data",
          "data": {
            "image/png": "[encoded data removed]",
            "text/plain": [
              "<Figure size 432x288 with 1 Axes>"
            ]
          },
          "metadata": {
            "needs_background": "light"
          }
        }
      ]
    },
    {
      "cell_type": "markdown",
      "metadata": {
        "id": "aBWPMmrIfH3D"
      },
      "source": [
        "# Evaluation on Test Data"
      ]
    },
    {
      "cell_type": "code",
      "metadata": {
        "id": "ENb5a6M0fH3E"
      },
      "source": [
        "from sklearn.metrics import mean_squared_error,mean_absolute_error,explained_variance_score"
      ],
      "execution_count": 49,
      "outputs": []
    },
    {
      "cell_type": "markdown",
      "metadata": {
        "id": "GGbcpr7efH3E"
      },
      "source": [
        "#### Predicting on Brand New Data"
      ]
    },
    {
      "cell_type": "code",
      "metadata": {
        "id": "G0hiqvHvfH3E",
        "colab": {
          "base_uri": "https://localhost:8080/"
        },
        "outputId": "8fc22579-40a4-4950-caec-3b48f28e7291"
      },
      "source": [
        "X_test"
      ],
      "execution_count": 50,
      "outputs": [
        {
          "output_type": "execute_result",
          "data": {
            "text/plain": [
              "array([[0.18181818, 0.125     , 0.05735849, ..., 0.010289  , 0.        ,\n",
              "        1.        ],\n",
              "       [0.36363636, 0.28125   , 0.13207547, ..., 0.00909894, 0.27272727,\n",
              "        1.        ],\n",
              "       [0.36363636, 0.3125    , 0.16679245, ..., 0.00418246, 0.09090909,\n",
              "        1.        ],\n",
              "       ...,\n",
              "       [0.27272727, 0.25      , 0.17584906, ..., 0.00821673, 0.90909091,\n",
              "        0.        ],\n",
              "       [0.18181818, 0.125     , 0.04603774, ..., 0.0044122 , 0.27272727,\n",
              "        1.        ],\n",
              "       [0.36363636, 0.4375    , 0.24226415, ..., 0.01018447, 0.72727273,\n",
              "        0.        ]])"
            ]
          },
          "metadata": {},
          "execution_count": 50
        }
      ]
    },
    {
      "cell_type": "code",
      "metadata": {
        "id": "xU5jd4mofH3E"
      },
      "source": [
        "predictions = model.predict(X_test)"
      ],
      "execution_count": 51,
      "outputs": []
    },
    {
      "cell_type": "code",
      "metadata": {
        "id": "c0iEMJjZfH3E",
        "colab": {
          "base_uri": "https://localhost:8080/"
        },
        "outputId": "a4e1a08c-03e0-4c82-dae9-a74782e649cf"
      },
      "source": [
        "mean_absolute_error(y_test,predictions)"
      ],
      "execution_count": 52,
      "outputs": [
        {
          "output_type": "execute_result",
          "data": {
            "text/plain": [
              "103177.84649473705"
            ]
          },
          "metadata": {},
          "execution_count": 52
        }
      ]
    },
    {
      "cell_type": "code",
      "metadata": {
        "id": "IR9sS5ZBfH3F",
        "colab": {
          "base_uri": "https://localhost:8080/"
        },
        "outputId": "21b68655-7ad5-4eff-8606-71a76513347e"
      },
      "source": [
        "df['price'].mean()"
      ],
      "execution_count": 55,
      "outputs": [
        {
          "output_type": "execute_result",
          "data": {
            "text/plain": [
              "540088.1417665294"
            ]
          },
          "metadata": {},
          "execution_count": 55
        }
      ]
    },
    {
      "cell_type": "code",
      "metadata": {
        "id": "CNI2bufJfH3F",
        "colab": {
          "base_uri": "https://localhost:8080/"
        },
        "outputId": "7302b07a-42b8-4a7a-aecb-2e30ffbe6cc5"
      },
      "source": [
        "df['price'].median()"
      ],
      "execution_count": 56,
      "outputs": [
        {
          "output_type": "execute_result",
          "data": {
            "text/plain": [
              "450000.0"
            ]
          },
          "metadata": {},
          "execution_count": 56
        }
      ]
    },
    {
      "cell_type": "code",
      "metadata": {
        "id": "BwGq8D4sfH3F",
        "colab": {
          "base_uri": "https://localhost:8080/",
          "height": 307
        },
        "outputId": "40210538-a943-42d6-c78b-e7947197102e"
      },
      "source": [
        "# Our predictions\n",
        "plt.scatter(y_test,predictions)\n",
        "\n",
        "# Perfect predictions\n",
        "plt.plot(y_test,y_test,'r')"
      ],
      "execution_count": 57,
      "outputs": [
        {
          "output_type": "execute_result",
          "data": {
            "text/plain": [
              "[<matplotlib.lines.Line2D at 0x7f41848ce3d0>]"
            ]
          },
          "metadata": {},
          "execution_count": 57
        },
        {
          "output_type": "display_data",
          "data": {
            "image/png": "[encoded data removed]",
            "text/plain": [
              "<Figure size 432x288 with 1 Axes>"
            ]
          },
          "metadata": {
            "needs_background": "light"
          }
        }
      ]
    },
    {
      "cell_type": "code",
      "metadata": {
        "id": "Vtm6e7bzfH3G"
      },
      "source": [
        "errors = y_test.values.reshape(6484, 1) - predictions"
      ],
      "execution_count": 59,
      "outputs": []
    },
    {
      "cell_type": "code",
      "metadata": {
        "id": "zveY-xDofH3G",
        "colab": {
          "base_uri": "https://localhost:8080/",
          "height": 362
        },
        "outputId": "b1014000-8383-426f-9386-38032a63487a"
      },
      "source": [
        "sns.distplot(errors)"
      ],
      "execution_count": 60,
      "outputs": [
        {
          "output_type": "stream",
          "name": "stderr",
          "text": [
            "/usr/local/lib/python3.7/dist-packages/seaborn/distributions.py:2557: FutureWarning: `distplot` is a deprecated function and will be removed in a future version. Please adapt your code to use either `displot` (a figure-level function with similar flexibility) or `histplot` (an axes-level function for histograms).\n",
            "  warnings.warn(msg, FutureWarning)\n"
          ]
        },
        {
          "output_type": "execute_result",
          "data": {
            "text/plain": [
              "<matplotlib.axes._subplots.AxesSubplot at 0x7f418022f810>"
            ]
          },
          "metadata": {},
          "execution_count": 60
        },
        {
          "output_type": "display_data",
          "data": {
            "image/png": "[encoded data removed]",
            "text/plain": [
              "<Figure size 432x288 with 1 Axes>"
            ]
          },
          "metadata": {
            "needs_background": "light"
          }
        }
      ]
    },
    {
      "cell_type": "markdown",
      "metadata": {
        "id": "hqZ6GUZ0fH3G"
      },
      "source": [
        "-------------\n",
        "### Predicting on a brand new house"
      ]
    },
    {
      "cell_type": "code",
      "metadata": {
        "id": "sd6a717kfH3G"
      },
      "source": [
        "single_house = df.drop('price',axis=1).iloc[0]"
      ],
      "execution_count": 61,
      "outputs": []
    },
    {
      "cell_type": "code",
      "metadata": {
        "id": "03vmFTRtfH3G"
      },
      "source": [
        "single_house = scaler.transform(single_house.values.reshape(-1, 19))"
      ],
      "execution_count": 62,
      "outputs": []
    },
    {
      "cell_type": "code",
      "metadata": {
        "id": "qx_pzom0fH3H",
        "colab": {
          "base_uri": "https://localhost:8080/"
        },
        "outputId": "550f89e3-9c50-465a-c0c1-ccf5cf362fd3"
      },
      "source": [
        "single_house"
      ],
      "execution_count": 63,
      "outputs": [
        {
          "output_type": "execute_result",
          "data": {
            "text/plain": [
              "array([[0.27272727, 0.125     , 0.06716981, 0.00310751, 0.        ,\n",
              "        0.        , 0.        , 0.5       , 0.5       , 0.09758772,\n",
              "        0.        , 0.47826087, 0.        , 0.57149751, 0.21760797,\n",
              "        0.16193426, 0.00573322, 0.81818182, 0.        ]])"
            ]
          },
          "metadata": {},
          "execution_count": 63
        }
      ]
    },
    {
      "cell_type": "code",
      "metadata": {
        "id": "G-wZ_Fs6fH3H",
        "colab": {
          "base_uri": "https://localhost:8080/"
        },
        "outputId": "839c2207-6008-4cd5-ca21-a712d66191ae"
      },
      "source": [
        "model.predict(single_house)"
      ],
      "execution_count": 64,
      "outputs": [
        {
          "output_type": "execute_result",
          "data": {
            "text/plain": [
              "array([[279092.75]], dtype=float32)"
            ]
          },
          "metadata": {},
          "execution_count": 64
        }
      ]
    },
    {
      "cell_type": "code",
      "metadata": {
        "id": "nBPAA05qfH3H",
        "colab": {
          "base_uri": "https://localhost:8080/"
        },
        "outputId": "573d8f61-5943-42ca-fb87-f77e947189d7"
      },
      "source": [
        "df.iloc[0]"
      ],
      "execution_count": 65,
      "outputs": [
        {
          "output_type": "execute_result",
          "data": {
            "text/plain": [
              "price            221900.0000\n",
              "bedrooms              3.0000\n",
              "bathrooms             1.0000\n",
              "sqft_living        1180.0000\n",
              "sqft_lot           5650.0000\n",
              "floors                1.0000\n",
              "waterfront            0.0000\n",
              "view                  0.0000\n",
              "condition             3.0000\n",
              "grade                 7.0000\n",
              "sqft_above         1180.0000\n",
              "sqft_basement         0.0000\n",
              "yr_built           1955.0000\n",
              "yr_renovated          0.0000\n",
              "lat                  47.5112\n",
              "long               -122.2570\n",
              "sqft_living15      1340.0000\n",
              "sqft_lot15         5650.0000\n",
              "month                10.0000\n",
              "year               2014.0000\n",
              "Name: 0, dtype: float64"
            ]
          },
          "metadata": {},
          "execution_count": 65
        }
      ]
    }
  ]
}